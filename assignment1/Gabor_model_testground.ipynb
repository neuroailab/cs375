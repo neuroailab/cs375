{
 "cells": [
  {
   "cell_type": "markdown",
   "metadata": {},
   "source": [
    "# Import things"
   ]
  },
  {
   "cell_type": "code",
   "execution_count": 30,
   "metadata": {
    "collapsed": false
   },
   "outputs": [],
   "source": [
    "from skimage.filters import gabor_kernel\n",
    "from skimage import io\n",
    "import matplotlib.pyplot as plt \n",
    "import numpy as np\n",
    "import os\n",
    "import tensorflow as tf\n",
    "import math\n",
    "%matplotlib inline"
   ]
  },
  {
   "cell_type": "markdown",
   "metadata": {
    "collapsed": true
   },
   "source": [
    "# Plot a test gabor"
   ]
  },
  {
   "cell_type": "code",
   "execution_count": 31,
   "metadata": {
    "collapsed": false,
    "scrolled": true
   },
   "outputs": [
    {
     "data": {
      "image/png": "[encoded data removed]",
      "text/plain": [
       "<matplotlib.figure.Figure at 0x7f4bfc93c3d0>"
      ]
     },
     "metadata": {},
     "output_type": "display_data"
    },
    {
     "name": "stdout",
     "output_type": "stream",
     "text": [
      "43\n"
     ]
    }
   ],
   "source": [
    "bandwidths = (.16,.24,.32,.48,.9,1.6)#makes each filter 43x43\n",
    "sfs = (1/2.,1/3.,1/4.,1/6.,1/11.,1/18.)\n",
    "sig=6.8\n",
    "i=0\n",
    "gk = gabor_kernel(frequency=sfs[i],theta=math.pi*2.*(0/16.),sigma_x=sig,sigma_y=sig)\n",
    "plt.figure()        \n",
    "io.imshow(gk.real)  \n",
    "io.show() \n",
    "print(len(gk.real))"
   ]
  },
  {
   "cell_type": "markdown",
   "metadata": {
    "collapsed": true
   },
   "source": [
    " ## WHOOOOOOOO!!!! FUCKIN YEAH STRIPES"
   ]
  },
  {
   "cell_type": "code",
   "execution_count": 32,
   "metadata": {
    "collapsed": false,
    "scrolled": true
   },
   "outputs": [
    {
     "name": "stdout",
     "output_type": "stream",
     "text": [
      "Iteration step: 23\n"
     ]
    },
    {
     "ename": "AttributeError",
     "evalue": "'numpy.ndarray' object has no attribute 'imshow'",
     "output_type": "error",
     "traceback": [
      "\u001b[1;31m---------------------------------------------------------------------------\u001b[0m",
      "\u001b[1;31mAttributeError\u001b[0m                            Traceback (most recent call last)",
      "\u001b[1;32m<ipython-input-32-05ea4b250b97>\u001b[0m in \u001b[0;36m<module>\u001b[1;34m()\u001b[0m\n\u001b[0;32m     15\u001b[0m     \u001b[1;31m### END OF YOUR CODE\u001b[0m\u001b[1;33m\u001b[0m\u001b[1;33m\u001b[0m\u001b[0m\n\u001b[0;32m     16\u001b[0m \u001b[1;33m\u001b[0m\u001b[0m\n\u001b[1;32m---> 17\u001b[1;33m \u001b[0mplot_conv1_kernels\u001b[0m\u001b[1;33m(\u001b[0m\u001b[0mgk\u001b[0m\u001b[1;33m,\u001b[0m \u001b[1;36m23\u001b[0m\u001b[1;33m)\u001b[0m\u001b[1;33m\u001b[0m\u001b[0m\n\u001b[0m",
      "\u001b[1;32m<ipython-input-32-05ea4b250b97>\u001b[0m in \u001b[0;36mplot_conv1_kernels\u001b[1;34m(data, step)\u001b[0m\n\u001b[0;32m     11\u001b[0m         \u001b[0mkernel\u001b[0m \u001b[1;33m=\u001b[0m \u001b[0mkernels\u001b[0m\u001b[1;33m[\u001b[0m\u001b[1;33m:\u001b[0m\u001b[1;33m,\u001b[0m\u001b[0mkernelID\u001b[0m\u001b[1;33m:\u001b[0m\u001b[1;33m]\u001b[0m\u001b[1;33m\u001b[0m\u001b[0m\n\u001b[0;32m     12\u001b[0m         \u001b[0mfig\u001b[0m\u001b[1;33m,\u001b[0m \u001b[0max\u001b[0m \u001b[1;33m=\u001b[0m \u001b[0mplt\u001b[0m\u001b[1;33m.\u001b[0m\u001b[0msubplots\u001b[0m\u001b[1;33m(\u001b[0m\u001b[1;36m12\u001b[0m\u001b[1;33m,\u001b[0m\u001b[1;36m8\u001b[0m\u001b[1;33m)\u001b[0m\u001b[1;33m\u001b[0m\u001b[0m\n\u001b[1;32m---> 13\u001b[1;33m         \u001b[0max\u001b[0m\u001b[1;33m[\u001b[0m\u001b[0mkernelID\u001b[0m\u001b[1;33m]\u001b[0m\u001b[1;33m.\u001b[0m\u001b[0mimshow\u001b[0m\u001b[1;33m(\u001b[0m\u001b[0mkernel\u001b[0m\u001b[1;33m)\u001b[0m\u001b[1;33m\u001b[0m\u001b[0m\n\u001b[0m\u001b[0;32m     14\u001b[0m     \u001b[0max\u001b[0m\u001b[1;33m.\u001b[0m\u001b[0mshow\u001b[0m\u001b[1;33m(\u001b[0m\u001b[1;33m)\u001b[0m\u001b[1;33m\u001b[0m\u001b[0m\n\u001b[0;32m     15\u001b[0m     \u001b[1;31m### END OF YOUR CODE\u001b[0m\u001b[1;33m\u001b[0m\u001b[1;33m\u001b[0m\u001b[0m\n",
      "\u001b[1;31mAttributeError\u001b[0m: 'numpy.ndarray' object has no attribute 'imshow'"
     ]
    },
    {
     "data": {
      "image/png": "[encoded data removed]",
      "text/plain": [
       "<matplotlib.figure.Figure at 0x7f4bfe74e750>"
      ]
     },
     "metadata": {},
     "output_type": "display_data"
    }
   ],
   "source": [
    "def plot_conv1_kernels(data, step):\n",
    "    \"\"\"\n",
    "    Plots the 96 conv1 kernels in a 12 x 8 subplot grid.\n",
    "    \n",
    "    You will need to EDIT this function.\n",
    "    \"\"\"\n",
    "    print('Iteration step: %d' % step)\n",
    "    kernels = data\n",
    "    ### YOUR CODE HERE\n",
    "    for kernelID in range(kernels.shape[1]):\n",
    "        kernel = kernels[:,kernelID:]\n",
    "        fig, ax = plt.subplots(12,8)\n",
    "        ax[kernelID].imshow(kernel)\n",
    "    ax.show()\n",
    "    ### END OF YOUR CODE\n",
    "    \n",
    "plot_conv1_kernels(gk, 23)"
   ]
  },
  {
   "cell_type": "code",
   "execution_count": 34,
   "metadata": {
    "collapsed": false
   },
   "outputs": [
    {
     "ename": "SyntaxError",
     "evalue": "invalid syntax (<ipython-input-34-dc36d5791329>, line 43)",
     "output_type": "error",
     "traceback": [
      "\u001b[1;36m  File \u001b[1;32m\"<ipython-input-34-dc36d5791329>\"\u001b[1;36m, line \u001b[1;32m43\u001b[0m\n\u001b[1;33m    newKernel = gabor_kernel(frequency=spatFreq,theta=math.tau*(orientation/16))\u001b[0m\n\u001b[1;37m            ^\u001b[0m\n\u001b[1;31mSyntaxError\u001b[0m\u001b[1;31m:\u001b[0m invalid syntax\n"
     ]
    }
   ],
   "source": [
    "def gabor_model(inputs, train=True, norm=True, **kwargs):\n",
    "    \"\"\"\n",
    "    Hard-coded one-layer network with a convolutional layer of gabor filters followed by relu, \n",
    "    max pooling and local response normalization.\n",
    "    \n",
    "    \"\"\"\n",
    "    # propagate input targets\n",
    "    outputs = inputs\n",
    "    dropout = .5 if train else None\n",
    "    input_to_network = inputs['images']\n",
    "    \n",
    "    with tf.variable_scope('conv1') as scope:\n",
    "        #will be 96 43x43 filters with 6 spatial frequencies and 16 orientations\n",
    "        weights = tf.get_variable(shape=[43, 43, 3, 96], dtype=tf.float32, \n",
    "                                  initializer=gabor_initializer(), name='weights')\n",
    "        conv = tf.nn.conv2d(input_to_network, weights,[1, 6, 6, 1], padding='SAME')#want to produce ~30x30 outputs\n",
    "        biases = tf.Variable(tf.constant(0.0, shape=[96], dtype=tf.float32), trainable=True, name='biases')\n",
    "        bias = tf.nn.bias_add(conv, biases)\n",
    "        relu = tf.nn.relu(bias, name='relu')\n",
    "        pool = tf.nn.max_pool(value=relu, ksize=[1, 3, 3, 1], strides=[1, 3, 3, 1], padding='SAME', name='pool')\n",
    "        lrn = tf.nn.local_response_normalization(pool, depth_radius=5, bias=2, alpha=.0001, beta=.75) # bias=Kappa?\n",
    "       \n",
    "        outputs['conv1_kernel'] = weights\n",
    "        outputs['conv1'] = lrn\n",
    "        \n",
    "    with tf.variable_scope('fc2') as scope:\n",
    "        weights = tf.get_variable(shape=[9600,1000], dtype=tf.float32, \n",
    "                                  initializer=tf.contrib.layers.xavier_initializer(), name='weights')\n",
    "        biases = tf.Variable(tf.constant(0, shape=[1000], dtype=tf.float32), trainable=True, name='biases')\n",
    "        fc = tf.nn.xw_plus_b(outputs['fc7'], weights, biases)\n",
    "        outputs['pred'] = fc\n",
    "    \n",
    "    ### END OF YOUR CODE\n",
    "    for k in ['conv1', 'conv1_kernel', 'pred']:\n",
    "        assert k in outputs, '%s was not found in outputs' % k\n",
    "\n",
    "    return outputs, {}\n",
    "\n",
    "def gabor_initializer():\n",
    "    kernels = numpy.zeros((43,43,3,96))\n",
    "    for sfIndex,spatFreq in enumerate((1/2, 1/3, 1/4, 1/6, 1/11, 1/18)\n",
    "        for oriIndex,orientation in enumerate(range(1,16))\n",
    "            newKernel = gabor_kernel(frequency=spatFreq,theta=math.tau*(orientation/16))\n",
    "            newKernel = newKernel.real\n",
    "            kernels(:,:,:,sfIndex*16+oriIndex)=newKernel\n",
    "    return kernels"
   ]
  },
  {
   "cell_type": "markdown",
   "metadata": {},
   "source": [
    "# Test model in tf"
   ]
  },
  {
   "cell_type": "code",
   "execution_count": null,
   "metadata": {
    "collapsed": false
   },
   "outputs": [],
   "source": [
    "import tensorflow as tf\n",
    "import numpy as np\n",
    "\n",
    "# input placeholder\n",
    "input_placeholder = tf.placeholder(tf.float32, shape=[None, 5])\n",
    "# trainable variables randomly initialized\n",
    "W1 = tf.Variable(tf.random_normal(shape=[5,20]), tf.float32)\n",
    "b1 = tf.Variable(tf.random_normal(shape=[20,]), tf.float32)\n",
    "W2 = tf.Variable(tf.random_normal(shape=[20,5]), tf.float32)\n",
    "b2 = tf.Variable(tf.random_normal(shape=[5,]), tf.float32)\n",
    "# hidden layer\n",
    "h = tf.nn.sigmoid(tf.matmul(input_placeholder, W1) + b1)\n",
    "# output\n",
    "out = tf.matmul(h, W2) + b2"
   ]
  },
  {
   "cell_type": "code",
   "execution_count": null,
   "metadata": {
    "collapsed": true
   },
   "outputs": [],
   "source": [
    "#Initialize variables and create session\n",
    "import os\n",
    "os.environ['CUDA_VISIBLE_DEVICES'] = \"1\"\n",
    "# creates a session and allocates memory on GPU 1\n",
    "sess = tf.Session()\n",
    "# initialize all variables\n",
    "init_op = tf.global_variables_initializer()\n",
    "sess.run(init_op)"
   ]
  },
  {
   "cell_type": "code",
   "execution_count": null,
   "metadata": {
    "collapsed": false
   },
   "outputs": [],
   "source": [
    "# create some random input and run forward pass on it\n",
    "inp = np.random.rand(1, 5).astype(np.float32)\n",
    "result = sess.run(out, feed_dict={input_placeholder: inp})\n",
    "print(result)"
   ]
  },
  {
   "cell_type": "code",
   "execution_count": null,
   "metadata": {
    "collapsed": true
   },
   "outputs": [],
   "source": [
    "#Train the network to optimize a function y\n",
    "\n",
    "# the input x and output y\n",
    "x = np.random.rand(1000,5).astype(np.float32)\n",
    "y = x ** 3 + 17\n",
    "# labels placeholder\n",
    "labels_placeholder = tf.placeholder(tf.float32, shape=[None, 5])\n",
    "# simple l2-loss\n",
    "loss = tf.nn.l2_loss(out - labels_placeholder)\n",
    "# Gradient descent optimizer\n",
    "train_step = tf.train.GradientDescentOptimizer(0.01).minimize(loss)"
   ]
  },
  {
   "cell_type": "code",
   "execution_count": null,
   "metadata": {
    "collapsed": false
   },
   "outputs": [],
   "source": [
    "#train for 1000 steps\n",
    "\n",
    "from tqdm import trange\n",
    "for i in trange(1000):\n",
    "    idx = np.random.RandomState(0).permutation(1000)[:32]\n",
    "    inputs = x[idx]\n",
    "    labels = y[idx]\n",
    "    sess.run(train_step, feed_dict={input_placeholder: inputs, labels_placeholder: labels})"
   ]
  },
  {
   "cell_type": "code",
   "execution_count": null,
   "metadata": {
    "collapsed": false
   },
   "outputs": [],
   "source": [
    "inp = np.random.rand(1, 5).astype(np.float32)\n",
    "ground_truth = inp ** 3 + 17\n",
    "prediction = sess.run(out, feed_dict={input_placeholder: inp})\n",
    "print('Ground truth', ground_truth) \n",
    "print('Prediction', prediction)"
   ]
  },
  {
   "cell_type": "code",
   "execution_count": null,
   "metadata": {
    "collapsed": true
   },
   "outputs": [],
   "source": [
    "print tf.size(W2)"
   ]
  },
  {
   "cell_type": "code",
   "execution_count": null,
   "metadata": {
    "collapsed": false
   },
   "outputs": [],
   "source": [
    "def gabor_initializer():\n",
    "    kernels = np.zeros((43,43,3,96))\n",
    "    bandwidths = (.16,.24,.32,.48,.9,1.6)#makes each filter 43x43\n",
    "    for sfIndex,spatFreq in enumerate((1/2., 1/3., 1/4., 1/6., 1/11., 1/18.)):\n",
    "        for oriIndex,orientation in enumerate(range(1,17)):\n",
    "            newKernel = gabor_kernel(frequency=spatFreq,theta=math.pi*2.*(orientation/16.),bandwidth=bandwidths[sfIndex])\n",
    "            newKernel = newKernel.real\n",
    "            kernels[:,:,:,sfIndex*16+oriIndex]=np.zeros((43,43,3))\n",
    "            mismatch = 43-len(newKernel)\n",
    "            border = int(np.floor(mismatch/2.))\n",
    "            kernels[border:border+len(newKernel),border:border+len(newKernel),0,sfIndex*16+oriIndex]=newKernel\n",
    "            kernels[border:border+len(newKernel),border:border+len(newKernel),1,sfIndex*16+oriIndex]=newKernel\n",
    "            kernels[border:border+len(newKernel),border:border+len(newKernel),2,sfIndex*16+oriIndex]=newKernel\n",
    "    return kernels"
   ]
  },
  {
   "cell_type": "code",
   "execution_count": null,
   "metadata": {
    "collapsed": false
   },
   "outputs": [],
   "source": [
    "test_bank = gabor_initializer()\n",
    "plt.figure()        \n",
    "io.imshow(test_bank[:,:,1,3])  \n",
    "io.show() "
   ]
  },
  {
   "cell_type": "code",
   "execution_count": null,
   "metadata": {
    "collapsed": false
   },
   "outputs": [],
   "source": [
    "bandwidths = (.16,.24,.32,.48,.9,1.6)#makes each filter 43x43\n",
    "bandwidths[2]"
   ]
  },
  {
   "cell_type": "code",
   "execution_count": null,
   "metadata": {
    "collapsed": false
   },
   "outputs": [],
   "source": [
    "for i,j in enumerate(range(1,16)):\n",
    "    print(i,j)"
   ]
  },
  {
   "cell_type": "code",
   "execution_count": null,
   "metadata": {
    "collapsed": false
   },
   "outputs": [],
   "source": [
    "for x in np.arange(0,2*math.pi,0.1):\n",
    "   gk = gabor_kernel(frequency=1/2.,theta=x,sigma_x=2,sigma_y=2)\n",
    "   print(gk.shape)"
   ]
  },
  {
   "cell_type": "code",
   "execution_count": null,
   "metadata": {
    "collapsed": false
   },
   "outputs": [],
   "source": [
    "# test images\n",
    "n_images = 3\n",
    "resolution = 227\n",
    "channel = 3\n",
    "images = tf.Variable(tf.truncated_normal([n_images,resolution,resolution,channel]))\n",
    "labels = np.random.permutation(range(n_images))\n",
    "inputs = {'images': images,\n",
    "         'labels': labels}\n",
    "\n",
    "sess = tf.Session()\n",
    "init = tf.global_variables_initializer()\n",
    "sess.run(init)\n",
    "images_array = inputs['images'].eval(sess)\n",
    "labels_array = inputs['labels'].eval(sess)\n",
    "sess.close()\n",
    "plt.imshow(images_array[1,::])\n",
    "#labels_array.shape"
   ]
  },
  {
   "cell_type": "code",
   "execution_count": null,
   "metadata": {
    "collapsed": false
   },
   "outputs": [],
   "source": [
    "test = [[1 2][3 4]]"
   ]
  },
  {
   "cell_type": "code",
   "execution_count": null,
   "metadata": {
    "collapsed": false
   },
   "outputs": [],
   "source": [
    "def gabor_initializer():\n",
    "    kernels = numpy.zeros((43,43,3,96))\n",
    "    for sfIndex,spatFreq in enumerate((1/2, 1/3, 1/4, 1/6, 1/11, 1/18)\n",
    "        for oriIndex,orientation in enumerate(range(1,16))\n",
    "            newKernel = gabor_kernel(frequency=spatFreq,theta=math.tau*(orientation/16))\n",
    "            newKernel = newKernel.real\n",
    "            kernels(:,:,:,sfIndex*16+oriIndex)=newKernel\n",
    "    return kernels\n",
    "                                    "
   ]
  },
  {
   "cell_type": "code",
   "execution_count": null,
   "metadata": {
    "collapsed": false
   },
   "outputs": [],
   "source": [
    "import sys\n",
    "sys.path.append('assignment1')\n",
    "%matplotlib inline\n",
    "import tensorflow as tf\n",
    "from tfutils import base, data, model, optimizer, utils\n",
    "import numpy as np\n",
    "import matplotlib.pyplot as plt\n",
    "from skimage.filters import gabor_kernel\n",
    "from skimage import io \n",
    "import math\n",
    "from dldata.metrics.utils import compute_metric_base"
   ]
  },
  {
   "cell_type": "code",
   "execution_count": 38,
   "metadata": {
    "collapsed": true
   },
   "outputs": [],
   "source": [
    "## Testing the model"
   ]
  },
  {
   "cell_type": "code",
   "execution_count": 39,
   "metadata": {
    "collapsed": false
   },
   "outputs": [],
   "source": [
    "import sys\n",
    "sys.path.append('assignment1')\n",
    "%matplotlib inline\n",
    "import tensorflow as tf\n",
    "from tfutils import base, data, model, optimizer, utils\n",
    "import numpy as np\n",
    "import matplotlib.pyplot as plt\n",
    "from skimage.filters import gabor_kernel\n",
    "from skimage import io \n",
    "import math\n",
    "from dldata.metrics.utils import compute_metric_base"
   ]
  },
  {
   "cell_type": "code",
   "execution_count": 40,
   "metadata": {
    "collapsed": true
   },
   "outputs": [],
   "source": [
    "# test images\n",
    "n_images = 3\n",
    "resolution = 227\n",
    "channel = 3\n",
    "images = tf.Variable(tf.truncated_normal([n_images,resolution,resolution,channel]))\n",
    "labels = np.random.permutation(range(n_images))\n",
    "inputs = {'images': images,\n",
    "         'labels': labels}"
   ]
  },
  {
   "cell_type": "code",
   "execution_count": 41,
   "metadata": {
    "collapsed": true
   },
   "outputs": [],
   "source": [
    "import pymongo as pm\n",
    "connection = pm.MongoClient(port=24444)\n",
    "connection.database_names()\n",
    "db = connection['assignment1']\n",
    "col1 = db['alexnet.files']\n",
    "exp_out = list(col1.find({'exp_id': '1st_experiment'}))"
   ]
  },
  {
   "cell_type": "code",
   "execution_count": 42,
   "metadata": {
    "collapsed": true
   },
   "outputs": [],
   "source": [
    "from dataprovider import ImageNetDataProvider"
   ]
  },
  {
   "cell_type": "code",
   "execution_count": 43,
   "metadata": {
    "collapsed": false
   },
   "outputs": [],
   "source": [
    "from models import gabor_model\n",
    "#from skimage.filters import gabor_kernel #tried this here for shits, didn't help\n",
    "model_layers, _ = gabor_model(inputs)\n",
    "out = model_layers['pred']"
   ]
  },
  {
   "cell_type": "code",
   "execution_count": null,
   "metadata": {
    "collapsed": false
   },
   "outputs": [],
   "source": []
  },
  {
   "cell_type": "code",
   "execution_count": null,
   "metadata": {
    "collapsed": true
   },
   "outputs": [],
   "source": []
  }
 ],
 "metadata": {
  "kernelspec": {
   "display_name": "Python 2",
   "language": "python",
   "name": "python2"
  },
  "language_info": {
   "codemirror_mode": {
    "name": "ipython",
    "version": 2
   },
   "file_extension": ".py",
   "mimetype": "text/x-python",
   "name": "python",
   "nbconvert_exporter": "python",
   "pygments_lexer": "ipython2",
   "version": "2.7.12"
  }
 },
 "nbformat": 4,
 "nbformat_minor": 0
}
