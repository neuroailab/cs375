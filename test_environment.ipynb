{
 "cells": [
  {
   "cell_type": "code",
   "execution_count": 1,
   "metadata": {
    "collapsed": false
   },
   "outputs": [
    {
     "name": "stdout",
     "output_type": "stream",
     "text": [
      "Can't import separate mcc package\n",
      "Can't import asgd.\n",
      "Can't import scikits stuff\n"
     ]
    },
    {
     "name": "stderr",
     "output_type": "stream",
     "text": [
      "/usr/local/lib/python2.7/dist-packages/sklearn/cross_validation.py:41: DeprecationWarning: This module was deprecated in version 0.18 in favor of the model_selection module into which all the refactored classes and functions are moved. Also note that the interface of the new CV iterators are different from that of this module. This module will be removed in 0.20.\n",
      "  \"This module will be removed in 0.20.\", DeprecationWarning)\n",
      "/usr/local/lib/python2.7/dist-packages/sklearn/grid_search.py:42: DeprecationWarning: This module was deprecated in version 0.18 in favor of the model_selection module into which all the refactored classes and functions are moved. This module will be removed in 0.20.\n",
      "  DeprecationWarning)\n"
     ]
    }
   ],
   "source": [
    "%matplotlib inline\n",
    "import tensorflow as tf\n",
    "from tfutils import base, data, model, optimizer, utils\n",
    "import numpy as np\n",
    "import matplotlib.pyplot as plt\n",
    "import sys\n",
    "from dldata.metrics.utils import compute_metric_base"
   ]
  },
  {
   "cell_type": "code",
   "execution_count": null,
   "metadata": {
    "collapsed": false
   },
   "outputs": [],
   "source": [
    "\"\"\"\n",
    "sess = tf.Session()\n",
    "init = tf.global_variables_initializer()\n",
    "sess.run(init)\n",
    "images_array = inputs['images'].eval(sess)\n",
    "sess.close()\n",
    "\"\"\""
   ]
  },
  {
   "cell_type": "code",
   "execution_count": null,
   "metadata": {
    "collapsed": false,
    "scrolled": true
   },
   "outputs": [],
   "source": [
    "# plt.imshow(images_array[0,::]) # example image plot"
   ]
  },
  {
   "cell_type": "markdown",
   "metadata": {},
   "source": [
    "## Loading Database"
   ]
  },
  {
   "cell_type": "code",
   "execution_count": null,
   "metadata": {
    "collapsed": false
   },
   "outputs": [],
   "source": [
    "import pymongo as pm\n",
    "port = 24444\n",
    "dbname = 'assignment2'\n",
    "collection = 'alexnet.files'\n",
    "exp_id = '1st_experiment'\n",
    "\n",
    "connection = pm.MongoClient(port=port)\n",
    "connection.database_names()\n",
    "db = connection[dbname]\n",
    "col1 = db[collection]\n",
    "exp_out = list(col1.find({'exp_id': exp_id}))\n",
    "validation_results = list(col1.find({'validation_results' : {'$exists' : True}}))"
   ]
  },
  {
   "cell_type": "code",
   "execution_count": null,
   "metadata": {
    "collapsed": false
   },
   "outputs": [],
   "source": [
    "training_events = list(col1.find({'exp_id': exp_id, 'validation_results' : {'$exists' : False}}))\n",
    "train_results = [i for sublist in training_events for i in sublist['train_results']]"
   ]
  },
  {
   "cell_type": "code",
   "execution_count": null,
   "metadata": {
    "collapsed": false
   },
   "outputs": [],
   "source": [
    "# plotting loss\n",
    "plt.plot([i['loss'] for i in train_results])"
   ]
  },
  {
   "cell_type": "markdown",
   "metadata": {},
   "source": [
    "## Testing VAE"
   ]
  },
  {
   "cell_type": "code",
   "execution_count": 3,
   "metadata": {
    "collapsed": false
   },
   "outputs": [],
   "source": [
    "sys.path.append('assignment2')\n",
    "\n",
    "from VAE_models import VAE, get_conv\n",
    "\n",
    "# test images\n",
    "n_images = 100\n",
    "resolution = 24\n",
    "channel = 3\n",
    "images = tf.Variable(tf.truncated_normal([n_images,resolution,resolution,channel]))\n",
    "labels = np.random.permutation(range(n_images))\n",
    "inputs = {'images': images,\n",
    "         'labels': labels}\n",
    "\n",
    "#model_layers, _ = VAE(inputs)\n",
    "filters = [[4,4,3,64], [4,4,64,128]]\n",
    "with tf.variable_scope('conv111'):\n",
    "        conv1, conv1_weights = get_conv(inputs['images'], filters[0], 2)"
   ]
  },
  {
   "cell_type": "code",
   "execution_count": null,
   "metadata": {
    "collapsed": false
   },
   "outputs": [],
   "source": [
    "def get_FC(inputs, shape, activation=tf.nn.tanh):\n",
    "    \"\"\"\n",
    "    Args:\n",
    "        shape: [input, output]\n",
    "    \"\"\"\n",
    "    weights = tf.get_variable('weights', shape, tf.float32, tf.contrib.layers.xavier_initializer())\n",
    "    biases = tf.get_variable('biases', [shape[1]], tf.float32, tf.zeros_initializer())\n",
    "    FC = tf.nn.xw_plus_b(inputs, weights, biases, name='FC')\n",
    "    if activation is not None:\n",
    "        out = activation(FC)\n",
    "    else:\n",
    "        out = FC\n",
    "    return out\n",
    "\n",
    "n_hidden = 10; n_latent = 20\n",
    "outputs = {}\n",
    "# flatten the input images\n",
    "inp = tf.reshape(inputs['images'], [inputs['images'].get_shape().as_list()[0], -1])\n",
    "flat_len = inp.shape.as_list()[1]\n",
    "# encoder\n",
    "with tf.variable_scope('latent'):\n",
    "    latent = get_FC(inp, [flat_len, n_hidden])\n",
    "with tf.variable_scope('mu'):\n",
    "    mu = get_FC(latent, [n_hidden, n_latent], activation=None)\n",
    "with tf.variable_scope('logstd'):\n",
    "    logstd = get_FC(latent, [n_hidden, n_latent], activation=None)\n",
    "outputs['latent'] = latent\n",
    "outputs['mu'] = mu\n",
    "outputs['logstd'] = logstd\n",
    "\n",
    "# magic reparameterization trick to the rescue!\n",
    "noise = tf.random_normal([1, n_latent])\n",
    "z = tf.add(mu, tf.multiply(noise, tf.exp(.5*logstd)), name='latent_encoding') # where the magic happens\n",
    "\n",
    "# decoder\n",
    "with tf.variable_scope('hidden_out'):\n",
    "    hidden_out = get_FC(z, [n_latent, n_hidden])\n",
    "with tf.variable_scope('reconstruction'):\n",
    "    reconstruction = get_FC(hidden_out, [n_hidden, flat_len], tf.sigmoid)\n",
    "outputs['hidden_out'] = hidden_out\n",
    "outputs['reconstruction'] = reconstruction\n"
   ]
  },
  {
   "cell_type": "code",
   "execution_count": null,
   "metadata": {
    "collapsed": false
   },
   "outputs": [],
   "source": [
    "model_layers"
   ]
  },
  {
   "cell_type": "code",
   "execution_count": null,
   "metadata": {
    "collapsed": false,
    "scrolled": true
   },
   "outputs": [],
   "source": [
    "sess = tf.Session()\n",
    "init = tf.global_variables_initializer()\n",
    "sess.run(init)\n",
    "predictions = sess.run(out)\n",
    "sess.close()\n",
    "predictions.shape"
   ]
  },
  {
   "cell_type": "code",
   "execution_count": null,
   "metadata": {
    "collapsed": false
   },
   "outputs": [],
   "source": [
    "# in_top_k\n",
    "pred = np.array([[.2,.5,.3],[.7,.1,.1]])\n",
    "targets = np.array([1,1])\n",
    "func = tf.nn.in_top_k(pred,targets,1)\n",
    "\n",
    "sess = tf.Session()\n",
    "sess.run(func)\n",
    "sess.close()"
   ]
  },
  {
   "cell_type": "markdown",
   "metadata": {},
   "source": [
    "## Testing gabors"
   ]
  },
  {
   "cell_type": "code",
   "execution_count": null,
   "metadata": {
    "collapsed": true
   },
   "outputs": [],
   "source": [
    "%matplotlib inline\n",
    "from skimage.filters import gabor_kernel\n",
    "from skimage import io\n",
    "from matplotlib import pyplot as plt  \n",
    "import math"
   ]
  },
  {
   "cell_type": "code",
   "execution_count": null,
   "metadata": {
    "collapsed": false
   },
   "outputs": [],
   "source": [
    "import numpy as np\n",
    "import matplotlib.pyplot as plt\n",
    "import matplotlib.cm as cm\n",
    "\n",
    "size = np.linspace(-np.pi,np.pi,200)\n",
    "xgrid, ygrid = np.meshgrid(size, size)\n",
    "\n",
    "gaussian = np.exp(-(xgrid/2)**2-(ygrid/2)**2) \n",
    "sine = np.sin(xgrid*10)\n",
    "gabor = sine * gaussian\n",
    "plt.imshow(gabor,cm.gray) \n",
    "plt.show()"
   ]
  },
  {
   "cell_type": "code",
   "execution_count": null,
   "metadata": {
    "collapsed": false
   },
   "outputs": [],
   "source": [
    "np.arange(0,2*math.pi,0.1)"
   ]
  },
  {
   "cell_type": "code",
   "execution_count": null,
   "metadata": {
    "collapsed": false
   },
   "outputs": [],
   "source": [
    "import pymongo as pm\n",
    "connection = pm.MongoClient(port=24444)\n",
    "connection.database_names()\n",
    "db = connection['imagenet']\n",
    "col1 = db['alexnet']\n",
    "exp_out = list(col1.find({'exp_id': 'experiment_1'}))\n",
    "exp_out"
   ]
  },
  {
   "cell_type": "code",
   "execution_count": null,
   "metadata": {
    "collapsed": false
   },
   "outputs": [],
   "source": [
    "exp_out"
   ]
  },
  {
   "cell_type": "code",
   "execution_count": null,
   "metadata": {
    "collapsed": true
   },
   "outputs": [],
   "source": []
  }
 ],
 "metadata": {
  "kernelspec": {
   "display_name": "Python 2",
   "language": "python",
   "name": "python2"
  },
  "language_info": {
   "codemirror_mode": {
    "name": "ipython",
    "version": 2
   },
   "file_extension": ".py",
   "mimetype": "text/x-python",
   "name": "python",
   "nbconvert_exporter": "python",
   "pygments_lexer": "ipython2",
   "version": "2.7.12"
  }
 },
 "nbformat": 4,
 "nbformat_minor": 0
}
