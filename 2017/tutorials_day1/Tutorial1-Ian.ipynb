{
 "cells": [
  {
   "cell_type": "code",
   "execution_count": 3,
   "metadata": {
    "collapsed": false
   },
   "outputs": [],
   "source": [
    "import pymongo as pm\n",
    "import numpy as np\n",
    "\n",
    "port = 24444\n",
    "host = 'localhost'\n",
    "connection = pm.MongoClient(port = port, host = host)"
   ]
  },
  {
   "cell_type": "code",
   "execution_count": 4,
   "metadata": {
    "collapsed": false
   },
   "outputs": [
    {
     "name": "stdout",
     "output_type": "stream",
     "text": [
      "[u'imagenet', u'local', u'tfutils-test']\n"
     ]
    }
   ],
   "source": [
    "print(connection.database_names())"
   ]
  },
  {
   "cell_type": "code",
   "execution_count": 5,
   "metadata": {
    "collapsed": false
   },
   "outputs": [
    {
     "data": {
      "text/plain": [
       "[u'alexnet.files', u'alexnet.chunks']"
      ]
     },
     "execution_count": 5,
     "metadata": {},
     "output_type": "execute_result"
    }
   ],
   "source": [
    "database = connection['imagenet']\n",
    "database.collection_names()"
   ]
  },
  {
   "cell_type": "code",
   "execution_count": 6,
   "metadata": {
    "collapsed": false
   },
   "outputs": [
    {
     "data": {
      "text/plain": [
       "[u'experiment_1']"
      ]
     },
     "execution_count": 6,
     "metadata": {},
     "output_type": "execute_result"
    }
   ],
   "source": [
    "collection = database['alexnet.files']\n",
    "collection.distinct('exp_id')"
   ]
  },
  {
   "cell_type": "code",
   "execution_count": 9,
   "metadata": {
    "collapsed": false
   },
   "outputs": [
    {
     "name": "stdout",
     "output_type": "stream",
     "text": [
      "1\n"
     ]
    }
   ],
   "source": [
    "query = {'exp_id': 'experiment_1'}\n",
    "entries = collection.find(query)\n",
    "print(entries.count())"
   ]
  },
  {
   "cell_type": "code",
   "execution_count": 16,
   "metadata": {
    "collapsed": false
   },
   "outputs": [
    {
     "data": {
      "text/plain": [
       "{u'_id': ObjectId('59d42d671742f961665e20a4'),\n",
       " u'_saver_num_data_files': 1,\n",
       " u'_saver_write_version': 2,\n",
       " u'chunkSize': 261120,\n",
       " u'duration': 90.41816592216492,\n",
       " u'exp_id': u'experiment_1',\n",
       " u'filename': u'/home/mrowca/.tfutils/35.203.151.24:24444/imagenet/alexnet/experiment_1/checkpoint-440003.tar',\n",
       " u'length': 912128000,\n",
       " u'md5': u'a9f43e00f2e5abd206350ab85d71a307',\n",
       " u'params': {u'dont_run': False,\n",
       "  u'inter_op_parallelism_threads': 40,\n",
       "  u'learning_rate_params': {u'boundaries': [150000, 300000, 450000],\n",
       "   u'func': {u'active_branch': u'master',\n",
       "    u'active_branch_in_origin': True,\n",
       "    u'clean': True,\n",
       "    u'commit': u'53568fdf1a76c6fdcbb7241574700e0a35659351',\n",
       "    u'commit_in_log': True,\n",
       "    u'git_dir': u'/home/mrowca/workspace/cs375-private/.git',\n",
       "    u'modname': u'__main__',\n",
       "    u'objname': u'<lambda>',\n",
       "    u'remote_urls': [u'https://github.com/neuroailab/cs375-private.git'],\n",
       "    u'source_path': u'copy_imagenet.py'},\n",
       "   u'values': [0.01, 0.005, 0.001, 0.0005]},\n",
       "  u'load_params': {u'collname': u'alexnet',\n",
       "   u'dbname': u'imagenet',\n",
       "   u'do_restore': True,\n",
       "   u'exp_id': u'experiment_1',\n",
       "   u'host': u'localhost',\n",
       "   u'load_query': None,\n",
       "   u'port': 24444},\n",
       "  u'log_device_placement': False,\n",
       "  u'loss_params': {u'agg_func': {u'modname': u'tensorflow.python.ops.math_ops',\n",
       "    u'objname': u'reduce_mean',\n",
       "    u'source_path': u'/usr/local/lib/python2.7/dist-packages/tensorflow/python/ops/math_ops.py',\n",
       "    u'version': None},\n",
       "   u'loss_func_kwargs': {},\n",
       "   u'loss_per_case_func': {u'active_branch': u'master',\n",
       "    u'active_branch_in_origin': True,\n",
       "    u'clean': True,\n",
       "    u'commit': u'53568fdf1a76c6fdcbb7241574700e0a35659351',\n",
       "    u'commit_in_log': True,\n",
       "    u'git_dir': u'/home/mrowca/workspace/cs375-private/.git',\n",
       "    u'modname': u'__main__',\n",
       "    u'objname': u'<lambda>',\n",
       "    u'remote_urls': [u'https://github.com/neuroailab/cs375-private.git'],\n",
       "    u'source_path': u'copy_imagenet.py'},\n",
       "   u'loss_per_case_func_params': {u'_outputs': u'outputs',\n",
       "    u'_targets_$all': u'inputs'},\n",
       "   u'targets': [u'labels']},\n",
       "  u'model_params': {u'cfg_final': {u'model_0/conv1': {u'conv': {u'activation': u'relu',\n",
       "      u'bias': 0,\n",
       "      u'init': u'xavier',\n",
       "      u'input': u'random_shuffle_queue_DequeueMany:0',\n",
       "      u'kernel_size': [11, 11],\n",
       "      u'num_filters': 96,\n",
       "      u'padding': u'VALID',\n",
       "      u'seed': 0,\n",
       "      u'stddev': 0.01,\n",
       "      u'stride': 4,\n",
       "      u'type': u'conv',\n",
       "      u'weight_decay': 0.0005},\n",
       "     u'lrnorm': {u'alpha': 2e-05,\n",
       "      u'beta': 0.75,\n",
       "      u'bias': 1,\n",
       "      u'depth_radius': 2,\n",
       "      u'input': u'model_0/model_0/__GPU__0/conv1/relu:0',\n",
       "      u'type': u'lrnorm'},\n",
       "     u'maxpool': {u'input': u'model_0/model_0/__GPU__0/conv1/norm:0',\n",
       "      u'kernel_size': [3, 3],\n",
       "      u'padding': u'SAME',\n",
       "      u'stride': 2,\n",
       "      u'type': u'maxpool'}},\n",
       "    u'model_0/conv2': {u'conv': {u'activation': u'relu',\n",
       "      u'bias': 0.1,\n",
       "      u'init': u'xavier',\n",
       "      u'input': u'model_0/model_0/__GPU__0/conv1/pool:0',\n",
       "      u'kernel_size': [5, 5],\n",
       "      u'num_filters': 256,\n",
       "      u'padding': u'SAME',\n",
       "      u'seed': 0,\n",
       "      u'stddev': 0.01,\n",
       "      u'stride': 1,\n",
       "      u'type': u'conv',\n",
       "      u'weight_decay': 0.0005},\n",
       "     u'lrnorm': {u'alpha': 2e-05,\n",
       "      u'beta': 0.75,\n",
       "      u'bias': 1,\n",
       "      u'depth_radius': 2,\n",
       "      u'input': u'model_0/model_0/__GPU__0/conv2/relu:0',\n",
       "      u'type': u'lrnorm'},\n",
       "     u'maxpool': {u'input': u'model_0/model_0/__GPU__0/conv2/norm:0',\n",
       "      u'kernel_size': [3, 3],\n",
       "      u'padding': u'SAME',\n",
       "      u'stride': 2,\n",
       "      u'type': u'maxpool'}},\n",
       "    u'model_0/conv3': {u'conv': {u'activation': u'relu',\n",
       "      u'bias': 0,\n",
       "      u'init': u'xavier',\n",
       "      u'input': u'model_0/model_0/__GPU__0/conv2/pool:0',\n",
       "      u'kernel_size': [3, 3],\n",
       "      u'num_filters': 384,\n",
       "      u'padding': u'SAME',\n",
       "      u'seed': 0,\n",
       "      u'stddev': 0.01,\n",
       "      u'stride': 1,\n",
       "      u'type': u'conv',\n",
       "      u'weight_decay': 0.0005}},\n",
       "    u'model_0/conv4': {u'conv': {u'activation': u'relu',\n",
       "      u'bias': 0,\n",
       "      u'init': u'xavier',\n",
       "      u'input': u'model_0/model_0/__GPU__0/conv3/relu:0',\n",
       "      u'kernel_size': [3, 3],\n",
       "      u'num_filters': 384,\n",
       "      u'padding': u'SAME',\n",
       "      u'seed': 0,\n",
       "      u'stddev': 0.01,\n",
       "      u'stride': 1,\n",
       "      u'type': u'conv',\n",
       "      u'weight_decay': 0.0005}},\n",
       "    u'model_0/conv5': {u'conv': {u'activation': u'relu',\n",
       "      u'bias': 0,\n",
       "      u'init': u'xavier',\n",
       "      u'input': u'model_0/model_0/__GPU__0/conv4/relu:0',\n",
       "      u'kernel_size': [3, 3],\n",
       "      u'num_filters': 256,\n",
       "      u'padding': u'SAME',\n",
       "      u'seed': 0,\n",
       "      u'stddev': 0.01,\n",
       "      u'stride': 1,\n",
       "      u'type': u'conv',\n",
       "      u'weight_decay': 0.0005},\n",
       "     u'maxpool': {u'input': u'model_0/model_0/__GPU__0/conv5/relu:0',\n",
       "      u'kernel_size': [3, 3],\n",
       "      u'padding': u'SAME',\n",
       "      u'stride': 2,\n",
       "      u'type': u'maxpool'}},\n",
       "    u'model_0/fc6': {u'fc': {u'activation': u'relu',\n",
       "      u'bias': 0.1,\n",
       "      u'dropout': 0.5,\n",
       "      u'init': u'trunc_norm',\n",
       "      u'input': u'model_0/model_0/__GPU__0/conv5/pool:0',\n",
       "      u'num_filters': 4096,\n",
       "      u'seed': 0,\n",
       "      u'stddev': 0.01,\n",
       "      u'type': u'fc',\n",
       "      u'weight_decay': 0.0}},\n",
       "    u'model_0/fc7': {u'fc': {u'activation': u'relu',\n",
       "      u'bias': 0.1,\n",
       "      u'dropout': 0.5,\n",
       "      u'init': u'trunc_norm',\n",
       "      u'input': u'model_0/model_0/__GPU__0/fc6/dropout/mul:0',\n",
       "      u'num_filters': 4096,\n",
       "      u'seed': 0,\n",
       "      u'stddev': 0.01,\n",
       "      u'type': u'fc',\n",
       "      u'weight_decay': 0.0}},\n",
       "    u'model_0/fc8': {u'fc': {u'activation': None,\n",
       "      u'bias': 0,\n",
       "      u'dropout': None,\n",
       "      u'init': u'trunc_norm',\n",
       "      u'input': u'model_0/model_0/__GPU__0/fc7/dropout/mul:0',\n",
       "      u'num_filters': 1000,\n",
       "      u'seed': 0,\n",
       "      u'stddev': 0.01,\n",
       "      u'type': u'fc',\n",
       "      u'weight_decay': 0.0}}},\n",
       "   u'devices': [u'/gpu:0'],\n",
       "   u'func': {u'active_branch': u'master',\n",
       "    u'active_branch_in_origin': True,\n",
       "    u'clean': True,\n",
       "    u'commit': u'53568fdf1a76c6fdcbb7241574700e0a35659351',\n",
       "    u'commit_in_log': True,\n",
       "    u'git_dir': u'/home/mrowca/workspace/cs375-private/.git',\n",
       "    u'modname': u'models',\n",
       "    u'objname': u'alexnet_model',\n",
       "    u'remote_urls': [u'https://github.com/neuroailab/cs375-private.git'],\n",
       "    u'source_path': u'/home/mrowca/workspace/cs375-private/2017/assignment1-solution/models.py'},\n",
       "   u'num_gpus': 1,\n",
       "   u'prefix': u'model_0',\n",
       "   u'seed': 0,\n",
       "   u'train': True},\n",
       "  u'optimizer_params': {u'clip': False,\n",
       "   u'func': {u'active_branch': u'master',\n",
       "    u'active_branch_in_origin': True,\n",
       "    u'clean': False,\n",
       "    u'commit': u'a9da4d0d88053428c515a37d48840a450eb8d710',\n",
       "    u'commit_in_log': True,\n",
       "    u'git_dir': u'/home/mrowca/workspace/tfutils/.git',\n",
       "    u'modname': u'tfutils.optimizer',\n",
       "    u'objname': u'ClipOptimizer',\n",
       "    u'remote_urls': [u'https://github.com/neuroailab/tfutils.git'],\n",
       "    u'source_path': u'/home/mrowca/workspace/tfutils/tfutils/optimizer.py'},\n",
       "   u'momentum': 0.9,\n",
       "   u'optimizer_class': {u'modname': u'tensorflow.python.training.momentum',\n",
       "    u'objname': u'MomentumOptimizer',\n",
       "    u'source_path': u'/usr/local/lib/python2.7/dist-packages/tensorflow/python/training/momentum.py',\n",
       "    u'version': None}},\n",
       "  u'save_params': {u'cache_filters_freq': 1,\n",
       "   u'collname': u'alexnet',\n",
       "   u'dbname': u'imagenet',\n",
       "   u'exp_id': u'experiment_1',\n",
       "   u'host': u'35.203.151.24',\n",
       "   u'port': 24444,\n",
       "   u'save_filters_freq': 1,\n",
       "   u'save_initial_filters': True,\n",
       "   u'save_metrics_freq': 200,\n",
       "   u'save_to_gfs': [],\n",
       "   u'save_valid_freq': 10000},\n",
       "  u'skip_check': False,\n",
       "  u'train_params': {u'data_params': {u'batch_size': 256,\n",
       "    u'crop_size': 227,\n",
       "    u'data_path': u'/mnt/fs0/datasets/TFRecord_Imagenet_standard',\n",
       "    u'file_grab_func': {u'active_branch': u'master',\n",
       "     u'active_branch_in_origin': True,\n",
       "     u'clean': True,\n",
       "     u'commit': u'53568fdf1a76c6fdcbb7241574700e0a35659351',\n",
       "     u'commit_in_log': True,\n",
       "     u'git_dir': u'/home/mrowca/workspace/cs375-private/.git',\n",
       "     u'modname': u'__main__',\n",
       "     u'objname': u'subselect_tfrecords',\n",
       "     u'remote_urls': [u'https://github.com/neuroailab/cs375-private.git'],\n",
       "     u'source_path': u'copy_imagenet.py'},\n",
       "    u'file_pattern': u'train*.tfrecords',\n",
       "    u'func': {u'active_branch': u'master',\n",
       "     u'active_branch_in_origin': True,\n",
       "     u'clean': True,\n",
       "     u'commit': u'53568fdf1a76c6fdcbb7241574700e0a35659351',\n",
       "     u'commit_in_log': True,\n",
       "     u'git_dir': u'/home/mrowca/workspace/cs375-private/.git',\n",
       "     u'modname': u'dataprovider',\n",
       "     u'objname': u'ImageNetDataProvider',\n",
       "     u'remote_urls': [u'https://github.com/neuroailab/cs375-private.git'],\n",
       "     u'source_path': u'/home/mrowca/workspace/cs375-private/2017/assignment1-solution/dataprovider.py'},\n",
       "    u'group': u'train',\n",
       "    u'n_threads': 4,\n",
       "    u'shuffle': False,\n",
       "    u'shuffle_seed': 0},\n",
       "   u'minibatch_size': 256,\n",
       "   u'num_minibatches': 1,\n",
       "   u'num_steps': 440003,\n",
       "   u'queue_params': {u'batch_size': 256,\n",
       "    u'capacity': 2560,\n",
       "    u'min_after_dequeue': 1280,\n",
       "    u'queue_type': u'random',\n",
       "    u'seed': 0},\n",
       "   u'targets': {u'func': {u'active_branch': u'master',\n",
       "     u'active_branch_in_origin': True,\n",
       "     u'clean': True,\n",
       "     u'commit': u'53568fdf1a76c6fdcbb7241574700e0a35659351',\n",
       "     u'commit_in_log': True,\n",
       "     u'git_dir': u'/home/mrowca/workspace/cs375-private/.git',\n",
       "     u'modname': u'__main__',\n",
       "     u'objname': u'return_outputs',\n",
       "     u'remote_urls': [u'https://github.com/neuroailab/cs375-private.git'],\n",
       "     u'source_path': u'copy_imagenet.py'},\n",
       "    u'targets': []},\n",
       "   u'thres_loss': 1000,\n",
       "   u'train_loop': {u'func': {u'active_branch': u'master',\n",
       "     u'active_branch_in_origin': True,\n",
       "     u'clean': False,\n",
       "     u'commit': u'a9da4d0d88053428c515a37d48840a450eb8d710',\n",
       "     u'commit_in_log': True,\n",
       "     u'git_dir': u'/home/mrowca/workspace/tfutils/.git',\n",
       "     u'modname': u'tfutils.base',\n",
       "     u'objname': u'train_loop',\n",
       "     u'remote_urls': [u'https://github.com/neuroailab/tfutils.git'],\n",
       "     u'source_path': u'/home/mrowca/workspace/tfutils/tfutils/base.py'}},\n",
       "   u'validate_first': False},\n",
       "  u'validation_params': {u'topn_val': {u'agg_func': {u'active_branch': u'master',\n",
       "     u'active_branch_in_origin': True,\n",
       "     u'clean': True,\n",
       "     u'commit': u'53568fdf1a76c6fdcbb7241574700e0a35659351',\n",
       "     u'commit_in_log': True,\n",
       "     u'git_dir': u'/home/mrowca/workspace/cs375-private/.git',\n",
       "     u'modname': u'__main__',\n",
       "     u'objname': u'<lambda>',\n",
       "     u'remote_urls': [u'https://github.com/neuroailab/cs375-private.git'],\n",
       "     u'source_path': u'copy_imagenet.py'},\n",
       "    u'data_params': {u'batch_size': 256,\n",
       "     u'crop_size': 227,\n",
       "     u'data_path': u'/mnt/fs0/datasets/TFRecord_Imagenet_standard',\n",
       "     u'file_grab_func': {u'active_branch': u'master',\n",
       "      u'active_branch_in_origin': True,\n",
       "      u'clean': True,\n",
       "      u'commit': u'53568fdf1a76c6fdcbb7241574700e0a35659351',\n",
       "      u'commit_in_log': True,\n",
       "      u'git_dir': u'/home/mrowca/workspace/cs375-private/.git',\n",
       "      u'modname': u'__main__',\n",
       "      u'objname': u'subselect_tfrecords',\n",
       "      u'remote_urls': [u'https://github.com/neuroailab/cs375-private.git'],\n",
       "      u'source_path': u'copy_imagenet.py'},\n",
       "     u'file_pattern': u'validation*.tfrecords',\n",
       "     u'func': {u'active_branch': u'master',\n",
       "      u'active_branch_in_origin': True,\n",
       "      u'clean': True,\n",
       "      u'commit': u'53568fdf1a76c6fdcbb7241574700e0a35659351',\n",
       "      u'commit_in_log': True,\n",
       "      u'git_dir': u'/home/mrowca/workspace/cs375-private/.git',\n",
       "      u'modname': u'dataprovider',\n",
       "      u'objname': u'ImageNetDataProvider',\n",
       "      u'remote_urls': [u'https://github.com/neuroailab/cs375-private.git'],\n",
       "      u'source_path': u'/home/mrowca/workspace/cs375-private/2017/assignment1-solution/dataprovider.py'},\n",
       "     u'group': u'val',\n",
       "     u'n_threads': 4,\n",
       "     u'shuffle': False,\n",
       "     u'shuffle_seed': 0},\n",
       "    u'num_steps': 0,\n",
       "    u'online_agg_func': {u'active_branch': u'master',\n",
       "     u'active_branch_in_origin': True,\n",
       "     u'clean': True,\n",
       "     u'commit': u'53568fdf1a76c6fdcbb7241574700e0a35659351',\n",
       "     u'commit_in_log': True,\n",
       "     u'git_dir': u'/home/mrowca/workspace/cs375-private/.git',\n",
       "     u'modname': u'__main__',\n",
       "     u'objname': u'online_agg',\n",
       "     u'remote_urls': [u'https://github.com/neuroailab/cs375-private.git'],\n",
       "     u'source_path': u'copy_imagenet.py'},\n",
       "    u'queue_params': {u'batch_size': 256,\n",
       "     u'capacity': 2560,\n",
       "     u'min_after_dequeue': 1280,\n",
       "     u'queue_type': u'fifo',\n",
       "     u'seed': 0},\n",
       "    u'targets': {u'func': {u'active_branch': u'master',\n",
       "      u'active_branch_in_origin': True,\n",
       "      u'clean': True,\n",
       "      u'commit': u'53568fdf1a76c6fdcbb7241574700e0a35659351',\n",
       "      u'commit_in_log': True,\n",
       "      u'git_dir': u'/home/mrowca/workspace/cs375-private/.git',\n",
       "      u'modname': u'__main__',\n",
       "      u'objname': u'in_top_k',\n",
       "      u'remote_urls': [u'https://github.com/neuroailab/cs375-private.git'],\n",
       "      u'source_path': u'copy_imagenet.py'}},\n",
       "    u'valid_loop': {u'func': None}}}},\n",
       " u'saved_filters': True,\n",
       " u'step': 440003,\n",
       " u'train_results': [{u'learning_rate': 0.0010000000474974513,\n",
       "   u'loss': 1.0932353734970093}],\n",
       " u'uploadDate': datetime.datetime(2017, 10, 4, 0, 39, 30, 27000)}"
      ]
     },
     "execution_count": 16,
     "metadata": {},
     "output_type": "execute_result"
    }
   ],
   "source": [
    "entries[0]"
   ]
  },
  {
   "cell_type": "code",
   "execution_count": 14,
   "metadata": {
    "collapsed": false
   },
   "outputs": [
    {
     "name": "stdout",
     "output_type": "stream",
     "text": [
      "1\n"
     ]
    }
   ],
   "source": [
    "query_train = {'exp_id': 'experiment_1', 'train_results': {'$exists': True}}\n",
    "train_entries = collection.find(query_train)\n",
    "print(train_entries.count())"
   ]
  },
  {
   "cell_type": "markdown",
   "metadata": {},
   "source": [
    "## Actual Practice for Collections"
   ]
  },
  {
   "cell_type": "code",
   "execution_count": 80,
   "metadata": {
    "collapsed": false
   },
   "outputs": [],
   "source": [
    "%matplotlib inline \n",
    "import matplotlib.pyplot as plt\n",
    "import pandas as pd\n",
    "import pymongo as pm\n",
    "import numpy as np\n",
    "import tensorflow as tf\n",
    "\n",
    "x = np.linspace(-2,2,101)[np.random.RandomState(0).permutation(101)]\n",
    "y = x**3 - 1"
   ]
  },
  {
   "cell_type": "code",
   "execution_count": 63,
   "metadata": {
    "collapsed": true
   },
   "outputs": [],
   "source": [
    "database = connection['tasks']\n",
    "col1 = connection['tasks']['polyfunction']\n",
    "for i,j in zip(x,y):\n",
    "    col1.insert_one({'x': i, 'y': j})"
   ]
  },
  {
   "cell_type": "code",
   "execution_count": 113,
   "metadata": {
    "collapsed": false
   },
   "outputs": [
    {
     "name": "stdout",
     "output_type": "stream",
     "text": [
      "[2.0, 1.96, 1.92, 1.88, 1.8399999999999999, 1.8000000000000003, 1.7600000000000002, 1.7200000000000002, 1.6800000000000002, 1.6400000000000001, 1.6, 1.56, 1.52, 1.48, 1.44, 1.4, 1.3599999999999999, 1.3200000000000003, 1.2800000000000002, 1.2400000000000002, 1.2000000000000002, 1.1600000000000001, 1.12, 1.08, 1.04, 1.0, 0.96, 0.9199999999999999, 0.8799999999999999, 0.8399999999999999, 0.8000000000000003, 0.7600000000000002, 0.7200000000000002, 0.6800000000000002, 0.6400000000000001, 0.6000000000000001, 0.56, 0.52, 0.48, 0.43999999999999995, 0.3999999999999999, 0.3599999999999999, 0.31999999999999984, 0.28000000000000025, 0.2400000000000002, 0.20000000000000018, 0.16000000000000014, 0.1200000000000001, 0.08000000000000007, 0.040000000000000036, 0.0, -0.040000000000000036, -0.08000000000000007, -0.11999999999999988, -0.15999999999999992, -0.19999999999999996, -0.24, -0.28, -0.32000000000000006, -0.3599999999999999, -0.3999999999999999, -0.43999999999999995, -0.48, -0.52, -0.56, -0.5999999999999999, -0.6399999999999999, -0.6799999999999999, -0.72, -0.76, -0.8, -0.8400000000000001, -0.8799999999999999, -0.9199999999999999, -0.96, -1.0, -1.04, -1.08, -1.12, -1.1600000000000001, -1.2, -1.24, -1.28, -1.3199999999999998, -1.3599999999999999, -1.4, -1.44, -1.48, -1.52, -1.56, -1.6, -1.6400000000000001, -1.68, -1.72, -1.76, -1.8, -1.84, -1.88, -1.92, -1.96, -2.0]\n"
     ]
    }
   ],
   "source": [
    "db_sorted = list(col1.find().sort([('x', pm.DESCENDING),('y', pm.ASCENDING)]))\n",
    "print([i['x'] for i in db_sorted])"
   ]
  },
  {
   "cell_type": "code",
   "execution_count": 114,
   "metadata": {
    "collapsed": false
   },
   "outputs": [
    {
     "data": {
      "text/plain": [
       "[<matplotlib.lines.Line2D at 0x7f358e5bd3d0>]"
      ]
     },
     "execution_count": 114,
     "metadata": {},
     "output_type": "execute_result"
    },
    {
     "data": {
      "image/png": "[encoded data removed]",
      "text/plain": [
       "<matplotlib.figure.Figure at 0x7f358e628b90>"
      ]
     },
     "metadata": {},
     "output_type": "display_data"
    }
   ],
   "source": [
    "plt.plot(([i['y'] for i in db_sorted]))"
   ]
  },
  {
   "cell_type": "code",
   "execution_count": null,
   "metadata": {
    "collapsed": true
   },
   "outputs": [],
   "source": [
    "#col1.delete_one....\n",
    "connection['tasks'].drop_collection['polyfunctional']"
   ]
  },
  {
   "cell_type": "markdown",
   "metadata": {},
   "source": [
    "## Tensforflow "
   ]
  },
  {
   "cell_type": "code",
   "execution_count": 119,
   "metadata": {
    "collapsed": false
   },
   "outputs": [],
   "source": [
    "import tensorflow as tf\n",
    "import numpy as np\n",
    "\n",
    "# input placeholder\n",
    "input_placeholder = tf.placeholder(tf.float32, shape=[None, 3])\n",
    "# trainable variables randomly initialized\n",
    "W1 = tf.Variable(tf.random_normal(shape=[3,20]), tf.float32)\n",
    "b1 = tf.Variable(tf.random_normal(shape=[20,]), tf.float32)\n",
    "W2 = tf.Variable(tf.random_normal(shape=[20,3]), tf.float32)\n",
    "b2 = tf.Variable(tf.random_normal(shape=[3,]), tf.float32)\n",
    "# hidden layer\n",
    "h = tf.nn.sigmoid(tf.matmul(input_placeholder, W1) + b1)\n",
    "# output\n",
    "out = tf.matmul(h, W2) + b2"
   ]
  }
 ],
 "metadata": {
  "kernelspec": {
   "display_name": "Python 2",
   "language": "python",
   "name": "python2"
  },
  "language_info": {
   "codemirror_mode": {
    "name": "ipython",
    "version": 2
   },
   "file_extension": ".py",
   "mimetype": "text/x-python",
   "name": "python",
   "nbconvert_exporter": "python",
   "pygments_lexer": "ipython2",
   "version": "2.7.12"
  }
 },
 "nbformat": 4,
 "nbformat_minor": 0
}
