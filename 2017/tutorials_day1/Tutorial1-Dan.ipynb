{
 "cells": [
  {
   "cell_type": "code",
   "execution_count": 1,
   "metadata": {
    "collapsed": true
   },
   "outputs": [],
   "source": [
    "import pymongo as pm\n",
    "import numpy as np\n",
    "\n",
    "port = 24444\n",
    "host = 'localhost'\n",
    "connection = pm.MongoClient(port = port,host = host)"
   ]
  },
  {
   "cell_type": "code",
   "execution_count": 2,
   "metadata": {
    "collapsed": false
   },
   "outputs": [
    {
     "name": "stdout",
     "output_type": "stream",
     "text": [
      "[u'imagenet', u'local', u'tfutils-test']\n"
     ]
    }
   ],
   "source": [
    "print(connection.database_names())[-4:]"
   ]
  },
  {
   "cell_type": "code",
   "execution_count": 3,
   "metadata": {
    "collapsed": true
   },
   "outputs": [],
   "source": [
    "database = connection['imagenet']"
   ]
  },
  {
   "cell_type": "code",
   "execution_count": 4,
   "metadata": {
    "collapsed": false
   },
   "outputs": [
    {
     "data": {
      "text/plain": [
       "[u'alexnet.files', u'alexnet.chunks']"
      ]
     },
     "execution_count": 4,
     "metadata": {},
     "output_type": "execute_result"
    }
   ],
   "source": [
    "database.collection_names()"
   ]
  },
  {
   "cell_type": "code",
   "execution_count": 5,
   "metadata": {
    "collapsed": false
   },
   "outputs": [
    {
     "name": "stdout",
     "output_type": "stream",
     "text": [
      "Collection(Database(MongoClient(host=['localhost:24444'], document_class=dict, tz_aware=False, connect=True), u'imagenet'), u'alexnet.files')\n"
     ]
    },
    {
     "data": {
      "text/plain": [
       "[u'experiment_1']"
      ]
     },
     "execution_count": 5,
     "metadata": {},
     "output_type": "execute_result"
    }
   ],
   "source": [
    "collection = database['alexnet.files']\n",
    "print(collection)\n",
    "collection.distinct('exp_id')"
   ]
  },
  {
   "cell_type": "code",
   "execution_count": 6,
   "metadata": {
    "collapsed": true
   },
   "outputs": [],
   "source": [
    "exp1 = collection.distinct('exp_id')"
   ]
  },
  {
   "cell_type": "code",
   "execution_count": 7,
   "metadata": {
    "collapsed": false
   },
   "outputs": [
    {
     "name": "stdout",
     "output_type": "stream",
     "text": [
      "[u'experiment_1']\n"
     ]
    }
   ],
   "source": [
    "print(exp1)"
   ]
  },
  {
   "cell_type": "code",
   "execution_count": 8,
   "metadata": {
    "collapsed": false
   },
   "outputs": [
    {
     "name": "stdout",
     "output_type": "stream",
     "text": [
      "Collection(Database(MongoClient(host=['localhost:24444'], document_class=dict, tz_aware=False, connect=True), u'imagenet'), u'alexnet.files')\n"
     ]
    }
   ],
   "source": [
    "print(collection)"
   ]
  },
  {
   "cell_type": "code",
   "execution_count": 10,
   "metadata": {
    "collapsed": false
   },
   "outputs": [
    {
     "name": "stdout",
     "output_type": "stream",
     "text": [
      "1\n"
     ]
    }
   ],
   "source": [
    "query = {'exp_id': 'experiment_1'}\n",
    "entries = collection.find(query)\n",
    "print(entries.count())"
   ]
  },
  {
   "cell_type": "code",
   "execution_count": 11,
   "metadata": {
    "collapsed": false
   },
   "outputs": [
    {
     "data": {
      "text/plain": [
       "{u'_id': ObjectId('59d42d671742f961665e20a4'),\n",
       " u'_saver_num_data_files': 1,\n",
       " u'_saver_write_version': 2,\n",
       " u'chunkSize': 261120,\n",
       " u'duration': 90.41816592216492,\n",
       " u'exp_id': u'experiment_1',\n",
       " u'filename': u'/home/mrowca/.tfutils/35.203.151.24:24444/imagenet/alexnet/experiment_1/checkpoint-440003.tar',\n",
       " u'length': 912128000,\n",
       " u'md5': u'a9f43e00f2e5abd206350ab85d71a307',\n",
       " u'params': {u'dont_run': False,\n",
       "  u'inter_op_parallelism_threads': 40,\n",
       "  u'learning_rate_params': {u'boundaries': [150000, 300000, 450000],\n",
       "   u'func': {u'active_branch': u'master',\n",
       "    u'active_branch_in_origin': True,\n",
       "    u'clean': True,\n",
       "    u'commit': u'53568fdf1a76c6fdcbb7241574700e0a35659351',\n",
       "    u'commit_in_log': True,\n",
       "    u'git_dir': u'/home/mrowca/workspace/cs375-private/.git',\n",
       "    u'modname': u'__main__',\n",
       "    u'objname': u'<lambda>',\n",
       "    u'remote_urls': [u'https://github.com/neuroailab/cs375-private.git'],\n",
       "    u'source_path': u'copy_imagenet.py'},\n",
       "   u'values': [0.01, 0.005, 0.001, 0.0005]},\n",
       "  u'load_params': {u'collname': u'alexnet',\n",
       "   u'dbname': u'imagenet',\n",
       "   u'do_restore': True,\n",
       "   u'exp_id': u'experiment_1',\n",
       "   u'host': u'localhost',\n",
       "   u'load_query': None,\n",
       "   u'port': 24444},\n",
       "  u'log_device_placement': False,\n",
       "  u'loss_params': {u'agg_func': {u'modname': u'tensorflow.python.ops.math_ops',\n",
       "    u'objname': u'reduce_mean',\n",
       "    u'source_path': u'/usr/local/lib/python2.7/dist-packages/tensorflow/python/ops/math_ops.py',\n",
       "    u'version': None},\n",
       "   u'loss_func_kwargs': {},\n",
       "   u'loss_per_case_func': {u'active_branch': u'master',\n",
       "    u'active_branch_in_origin': True,\n",
       "    u'clean': True,\n",
       "    u'commit': u'53568fdf1a76c6fdcbb7241574700e0a35659351',\n",
       "    u'commit_in_log': True,\n",
       "    u'git_dir': u'/home/mrowca/workspace/cs375-private/.git',\n",
       "    u'modname': u'__main__',\n",
       "    u'objname': u'<lambda>',\n",
       "    u'remote_urls': [u'https://github.com/neuroailab/cs375-private.git'],\n",
       "    u'source_path': u'copy_imagenet.py'},\n",
       "   u'loss_per_case_func_params': {u'_outputs': u'outputs',\n",
       "    u'_targets_$all': u'inputs'},\n",
       "   u'targets': [u'labels']},\n",
       "  u'model_params': {u'cfg_final': {u'model_0/conv1': {u'conv': {u'activation': u'relu',\n",
       "      u'bias': 0,\n",
       "      u'init': u'xavier',\n",
       "      u'input': u'random_shuffle_queue_DequeueMany:0',\n",
       "      u'kernel_size': [11, 11],\n",
       "      u'num_filters': 96,\n",
       "      u'padding': u'VALID',\n",
       "      u'seed': 0,\n",
       "      u'stddev': 0.01,\n",
       "      u'stride': 4,\n",
       "      u'type': u'conv',\n",
       "      u'weight_decay': 0.0005},\n",
       "     u'lrnorm': {u'alpha': 2e-05,\n",
       "      u'beta': 0.75,\n",
       "      u'bias': 1,\n",
       "      u'depth_radius': 2,\n",
       "      u'input': u'model_0/model_0/__GPU__0/conv1/relu:0',\n",
       "      u'type': u'lrnorm'},\n",
       "     u'maxpool': {u'input': u'model_0/model_0/__GPU__0/conv1/norm:0',\n",
       "      u'kernel_size': [3, 3],\n",
       "      u'padding': u'SAME',\n",
       "      u'stride': 2,\n",
       "      u'type': u'maxpool'}},\n",
       "    u'model_0/conv2': {u'conv': {u'activation': u'relu',\n",
       "      u'bias': 0.1,\n",
       "      u'init': u'xavier',\n",
       "      u'input': u'model_0/model_0/__GPU__0/conv1/pool:0',\n",
       "      u'kernel_size': [5, 5],\n",
       "      u'num_filters': 256,\n",
       "      u'padding': u'SAME',\n",
       "      u'seed': 0,\n",
       "      u'stddev': 0.01,\n",
       "      u'stride': 1,\n",
       "      u'type': u'conv',\n",
       "      u'weight_decay': 0.0005},\n",
       "     u'lrnorm': {u'alpha': 2e-05,\n",
       "      u'beta': 0.75,\n",
       "      u'bias': 1,\n",
       "      u'depth_radius': 2,\n",
       "      u'input': u'model_0/model_0/__GPU__0/conv2/relu:0',\n",
       "      u'type': u'lrnorm'},\n",
       "     u'maxpool': {u'input': u'model_0/model_0/__GPU__0/conv2/norm:0',\n",
       "      u'kernel_size': [3, 3],\n",
       "      u'padding': u'SAME',\n",
       "      u'stride': 2,\n",
       "      u'type': u'maxpool'}},\n",
       "    u'model_0/conv3': {u'conv': {u'activation': u'relu',\n",
       "      u'bias': 0,\n",
       "      u'init': u'xavier',\n",
       "      u'input': u'model_0/model_0/__GPU__0/conv2/pool:0',\n",
       "      u'kernel_size': [3, 3],\n",
       "      u'num_filters': 384,\n",
       "      u'padding': u'SAME',\n",
       "      u'seed': 0,\n",
       "      u'stddev': 0.01,\n",
       "      u'stride': 1,\n",
       "      u'type': u'conv',\n",
       "      u'weight_decay': 0.0005}},\n",
       "    u'model_0/conv4': {u'conv': {u'activation': u'relu',\n",
       "      u'bias': 0,\n",
       "      u'init': u'xavier',\n",
       "      u'input': u'model_0/model_0/__GPU__0/conv3/relu:0',\n",
       "      u'kernel_size': [3, 3],\n",
       "      u'num_filters': 384,\n",
       "      u'padding': u'SAME',\n",
       "      u'seed': 0,\n",
       "      u'stddev': 0.01,\n",
       "      u'stride': 1,\n",
       "      u'type': u'conv',\n",
       "      u'weight_decay': 0.0005}},\n",
       "    u'model_0/conv5': {u'conv': {u'activation': u'relu',\n",
       "      u'bias': 0,\n",
       "      u'init': u'xavier',\n",
       "      u'input': u'model_0/model_0/__GPU__0/conv4/relu:0',\n",
       "      u'kernel_size': [3, 3],\n",
       "      u'num_filters': 256,\n",
       "      u'padding': u'SAME',\n",
       "      u'seed': 0,\n",
       "      u'stddev': 0.01,\n",
       "      u'stride': 1,\n",
       "      u'type': u'conv',\n",
       "      u'weight_decay': 0.0005},\n",
       "     u'maxpool': {u'input': u'model_0/model_0/__GPU__0/conv5/relu:0',\n",
       "      u'kernel_size': [3, 3],\n",
       "      u'padding': u'SAME',\n",
       "      u'stride': 2,\n",
       "      u'type': u'maxpool'}},\n",
       "    u'model_0/fc6': {u'fc': {u'activation': u'relu',\n",
       "      u'bias': 0.1,\n",
       "      u'dropout': 0.5,\n",
       "      u'init': u'trunc_norm',\n",
       "      u'input': u'model_0/model_0/__GPU__0/conv5/pool:0',\n",
       "      u'num_filters': 4096,\n",
       "      u'seed': 0,\n",
       "      u'stddev': 0.01,\n",
       "      u'type': u'fc',\n",
       "      u'weight_decay': 0.0}},\n",
       "    u'model_0/fc7': {u'fc': {u'activation': u'relu',\n",
       "      u'bias': 0.1,\n",
       "      u'dropout': 0.5,\n",
       "      u'init': u'trunc_norm',\n",
       "      u'input': u'model_0/model_0/__GPU__0/fc6/dropout/mul:0',\n",
       "      u'num_filters': 4096,\n",
       "      u'seed': 0,\n",
       "      u'stddev': 0.01,\n",
       "      u'type': u'fc',\n",
       "      u'weight_decay': 0.0}},\n",
       "    u'model_0/fc8': {u'fc': {u'activation': None,\n",
       "      u'bias': 0,\n",
       "      u'dropout': None,\n",
       "      u'init': u'trunc_norm',\n",
       "      u'input': u'model_0/model_0/__GPU__0/fc7/dropout/mul:0',\n",
       "      u'num_filters': 1000,\n",
       "      u'seed': 0,\n",
       "      u'stddev': 0.01,\n",
       "      u'type': u'fc',\n",
       "      u'weight_decay': 0.0}}},\n",
       "   u'devices': [u'/gpu:0'],\n",
       "   u'func': {u'active_branch': u'master',\n",
       "    u'active_branch_in_origin': True,\n",
       "    u'clean': True,\n",
       "    u'commit': u'53568fdf1a76c6fdcbb7241574700e0a35659351',\n",
       "    u'commit_in_log': True,\n",
       "    u'git_dir': u'/home/mrowca/workspace/cs375-private/.git',\n",
       "    u'modname': u'models',\n",
       "    u'objname': u'alexnet_model',\n",
       "    u'remote_urls': [u'https://github.com/neuroailab/cs375-private.git'],\n",
       "    u'source_path': u'/home/mrowca/workspace/cs375-private/2017/assignment1-solution/models.py'},\n",
       "   u'num_gpus': 1,\n",
       "   u'prefix': u'model_0',\n",
       "   u'seed': 0,\n",
       "   u'train': True},\n",
       "  u'optimizer_params': {u'clip': False,\n",
       "   u'func': {u'active_branch': u'master',\n",
       "    u'active_branch_in_origin': True,\n",
       "    u'clean': False,\n",
       "    u'commit': u'a9da4d0d88053428c515a37d48840a450eb8d710',\n",
       "    u'commit_in_log': True,\n",
       "    u'git_dir': u'/home/mrowca/workspace/tfutils/.git',\n",
       "    u'modname': u'tfutils.optimizer',\n",
       "    u'objname': u'ClipOptimizer',\n",
       "    u'remote_urls': [u'https://github.com/neuroailab/tfutils.git'],\n",
       "    u'source_path': u'/home/mrowca/workspace/tfutils/tfutils/optimizer.py'},\n",
       "   u'momentum': 0.9,\n",
       "   u'optimizer_class': {u'modname': u'tensorflow.python.training.momentum',\n",
       "    u'objname': u'MomentumOptimizer',\n",
       "    u'source_path': u'/usr/local/lib/python2.7/dist-packages/tensorflow/python/training/momentum.py',\n",
       "    u'version': None}},\n",
       "  u'save_params': {u'cache_filters_freq': 1,\n",
       "   u'collname': u'alexnet',\n",
       "   u'dbname': u'imagenet',\n",
       "   u'exp_id': u'experiment_1',\n",
       "   u'host': u'35.203.151.24',\n",
       "   u'port': 24444,\n",
       "   u'save_filters_freq': 1,\n",
       "   u'save_initial_filters': True,\n",
       "   u'save_metrics_freq': 200,\n",
       "   u'save_to_gfs': [],\n",
       "   u'save_valid_freq': 10000},\n",
       "  u'skip_check': False,\n",
       "  u'train_params': {u'data_params': {u'batch_size': 256,\n",
       "    u'crop_size': 227,\n",
       "    u'data_path': u'/mnt/fs0/datasets/TFRecord_Imagenet_standard',\n",
       "    u'file_grab_func': {u'active_branch': u'master',\n",
       "     u'active_branch_in_origin': True,\n",
       "     u'clean': True,\n",
       "     u'commit': u'53568fdf1a76c6fdcbb7241574700e0a35659351',\n",
       "     u'commit_in_log': True,\n",
       "     u'git_dir': u'/home/mrowca/workspace/cs375-private/.git',\n",
       "     u'modname': u'__main__',\n",
       "     u'objname': u'subselect_tfrecords',\n",
       "     u'remote_urls': [u'https://github.com/neuroailab/cs375-private.git'],\n",
       "     u'source_path': u'copy_imagenet.py'},\n",
       "    u'file_pattern': u'train*.tfrecords',\n",
       "    u'func': {u'active_branch': u'master',\n",
       "     u'active_branch_in_origin': True,\n",
       "     u'clean': True,\n",
       "     u'commit': u'53568fdf1a76c6fdcbb7241574700e0a35659351',\n",
       "     u'commit_in_log': True,\n",
       "     u'git_dir': u'/home/mrowca/workspace/cs375-private/.git',\n",
       "     u'modname': u'dataprovider',\n",
       "     u'objname': u'ImageNetDataProvider',\n",
       "     u'remote_urls': [u'https://github.com/neuroailab/cs375-private.git'],\n",
       "     u'source_path': u'/home/mrowca/workspace/cs375-private/2017/assignment1-solution/dataprovider.py'},\n",
       "    u'group': u'train',\n",
       "    u'n_threads': 4,\n",
       "    u'shuffle': False,\n",
       "    u'shuffle_seed': 0},\n",
       "   u'minibatch_size': 256,\n",
       "   u'num_minibatches': 1,\n",
       "   u'num_steps': 440003,\n",
       "   u'queue_params': {u'batch_size': 256,\n",
       "    u'capacity': 2560,\n",
       "    u'min_after_dequeue': 1280,\n",
       "    u'queue_type': u'random',\n",
       "    u'seed': 0},\n",
       "   u'targets': {u'func': {u'active_branch': u'master',\n",
       "     u'active_branch_in_origin': True,\n",
       "     u'clean': True,\n",
       "     u'commit': u'53568fdf1a76c6fdcbb7241574700e0a35659351',\n",
       "     u'commit_in_log': True,\n",
       "     u'git_dir': u'/home/mrowca/workspace/cs375-private/.git',\n",
       "     u'modname': u'__main__',\n",
       "     u'objname': u'return_outputs',\n",
       "     u'remote_urls': [u'https://github.com/neuroailab/cs375-private.git'],\n",
       "     u'source_path': u'copy_imagenet.py'},\n",
       "    u'targets': []},\n",
       "   u'thres_loss': 1000,\n",
       "   u'train_loop': {u'func': {u'active_branch': u'master',\n",
       "     u'active_branch_in_origin': True,\n",
       "     u'clean': False,\n",
       "     u'commit': u'a9da4d0d88053428c515a37d48840a450eb8d710',\n",
       "     u'commit_in_log': True,\n",
       "     u'git_dir': u'/home/mrowca/workspace/tfutils/.git',\n",
       "     u'modname': u'tfutils.base',\n",
       "     u'objname': u'train_loop',\n",
       "     u'remote_urls': [u'https://github.com/neuroailab/tfutils.git'],\n",
       "     u'source_path': u'/home/mrowca/workspace/tfutils/tfutils/base.py'}},\n",
       "   u'validate_first': False},\n",
       "  u'validation_params': {u'topn_val': {u'agg_func': {u'active_branch': u'master',\n",
       "     u'active_branch_in_origin': True,\n",
       "     u'clean': True,\n",
       "     u'commit': u'53568fdf1a76c6fdcbb7241574700e0a35659351',\n",
       "     u'commit_in_log': True,\n",
       "     u'git_dir': u'/home/mrowca/workspace/cs375-private/.git',\n",
       "     u'modname': u'__main__',\n",
       "     u'objname': u'<lambda>',\n",
       "     u'remote_urls': [u'https://github.com/neuroailab/cs375-private.git'],\n",
       "     u'source_path': u'copy_imagenet.py'},\n",
       "    u'data_params': {u'batch_size': 256,\n",
       "     u'crop_size': 227,\n",
       "     u'data_path': u'/mnt/fs0/datasets/TFRecord_Imagenet_standard',\n",
       "     u'file_grab_func': {u'active_branch': u'master',\n",
       "      u'active_branch_in_origin': True,\n",
       "      u'clean': True,\n",
       "      u'commit': u'53568fdf1a76c6fdcbb7241574700e0a35659351',\n",
       "      u'commit_in_log': True,\n",
       "      u'git_dir': u'/home/mrowca/workspace/cs375-private/.git',\n",
       "      u'modname': u'__main__',\n",
       "      u'objname': u'subselect_tfrecords',\n",
       "      u'remote_urls': [u'https://github.com/neuroailab/cs375-private.git'],\n",
       "      u'source_path': u'copy_imagenet.py'},\n",
       "     u'file_pattern': u'validation*.tfrecords',\n",
       "     u'func': {u'active_branch': u'master',\n",
       "      u'active_branch_in_origin': True,\n",
       "      u'clean': True,\n",
       "      u'commit': u'53568fdf1a76c6fdcbb7241574700e0a35659351',\n",
       "      u'commit_in_log': True,\n",
       "      u'git_dir': u'/home/mrowca/workspace/cs375-private/.git',\n",
       "      u'modname': u'dataprovider',\n",
       "      u'objname': u'ImageNetDataProvider',\n",
       "      u'remote_urls': [u'https://github.com/neuroailab/cs375-private.git'],\n",
       "      u'source_path': u'/home/mrowca/workspace/cs375-private/2017/assignment1-solution/dataprovider.py'},\n",
       "     u'group': u'val',\n",
       "     u'n_threads': 4,\n",
       "     u'shuffle': False,\n",
       "     u'shuffle_seed': 0},\n",
       "    u'num_steps': 0,\n",
       "    u'online_agg_func': {u'active_branch': u'master',\n",
       "     u'active_branch_in_origin': True,\n",
       "     u'clean': True,\n",
       "     u'commit': u'53568fdf1a76c6fdcbb7241574700e0a35659351',\n",
       "     u'commit_in_log': True,\n",
       "     u'git_dir': u'/home/mrowca/workspace/cs375-private/.git',\n",
       "     u'modname': u'__main__',\n",
       "     u'objname': u'online_agg',\n",
       "     u'remote_urls': [u'https://github.com/neuroailab/cs375-private.git'],\n",
       "     u'source_path': u'copy_imagenet.py'},\n",
       "    u'queue_params': {u'batch_size': 256,\n",
       "     u'capacity': 2560,\n",
       "     u'min_after_dequeue': 1280,\n",
       "     u'queue_type': u'fifo',\n",
       "     u'seed': 0},\n",
       "    u'targets': {u'func': {u'active_branch': u'master',\n",
       "      u'active_branch_in_origin': True,\n",
       "      u'clean': True,\n",
       "      u'commit': u'53568fdf1a76c6fdcbb7241574700e0a35659351',\n",
       "      u'commit_in_log': True,\n",
       "      u'git_dir': u'/home/mrowca/workspace/cs375-private/.git',\n",
       "      u'modname': u'__main__',\n",
       "      u'objname': u'in_top_k',\n",
       "      u'remote_urls': [u'https://github.com/neuroailab/cs375-private.git'],\n",
       "      u'source_path': u'copy_imagenet.py'}},\n",
       "    u'valid_loop': {u'func': None}}}},\n",
       " u'saved_filters': True,\n",
       " u'step': 440003,\n",
       " u'train_results': [{u'learning_rate': 0.0010000000474974513,\n",
       "   u'loss': 1.0932353734970093}],\n",
       " u'uploadDate': datetime.datetime(2017, 10, 4, 0, 39, 30, 27000)}"
      ]
     },
     "execution_count": 11,
     "metadata": {},
     "output_type": "execute_result"
    }
   ],
   "source": [
    "entries[0]"
   ]
  },
  {
   "cell_type": "code",
   "execution_count": 16,
   "metadata": {
    "collapsed": false
   },
   "outputs": [
    {
     "name": "stdout",
     "output_type": "stream",
     "text": [
      "{u'saved_filters': True, u'_saver_write_version': 2, u'chunkSize': 261120, u'filename': u'/home/mrowca/.tfutils/35.203.151.24:24444/imagenet/alexnet/experiment_1/checkpoint-440003.tar', u'_saver_num_data_files': 1, u'train_results': [{u'loss': 1.0932353734970093, u'learning_rate': 0.0010000000474974513}], u'duration': 90.41816592216492, u'length': 912128000, u'params': {u'model_params': {u'num_gpus': 1, u'devices': [u'/gpu:0'], u'prefix': u'model_0', u'train': True, u'func': {u'modname': u'models', u'remote_urls': [u'https://github.com/neuroailab/cs375-private.git'], u'commit_in_log': True, u'source_path': u'/home/mrowca/workspace/cs375-private/2017/assignment1-solution/models.py', u'active_branch_in_origin': True, u'git_dir': u'/home/mrowca/workspace/cs375-private/.git', u'objname': u'alexnet_model', u'clean': True, u'active_branch': u'master', u'commit': u'53568fdf1a76c6fdcbb7241574700e0a35659351'}, u'cfg_final': {u'model_0/conv4': {u'conv': {u'activation': u'relu', u'padding': u'SAME', u'stride': 1, u'init': u'xavier', u'bias': 0, u'stddev': 0.01, u'num_filters': 384, u'input': u'model_0/model_0/__GPU__0/conv3/relu:0', u'weight_decay': 0.0005, u'type': u'conv', u'seed': 0, u'kernel_size': [3, 3]}}, u'model_0/conv5': {u'maxpool': {u'padding': u'SAME', u'input': u'model_0/model_0/__GPU__0/conv5/relu:0', u'type': u'maxpool', u'kernel_size': [3, 3], u'stride': 2}, u'conv': {u'activation': u'relu', u'padding': u'SAME', u'stride': 1, u'init': u'xavier', u'bias': 0, u'stddev': 0.01, u'num_filters': 256, u'input': u'model_0/model_0/__GPU__0/conv4/relu:0', u'weight_decay': 0.0005, u'type': u'conv', u'seed': 0, u'kernel_size': [3, 3]}}, u'model_0/fc8': {u'fc': {u'activation': None, u'init': u'trunc_norm', u'bias': 0, u'stddev': 0.01, u'num_filters': 1000, u'seed': 0, u'input': u'model_0/model_0/__GPU__0/fc7/dropout/mul:0', u'weight_decay': 0.0, u'type': u'fc', u'dropout': None}}, u'model_0/conv1': {u'lrnorm': {u'depth_radius': 2, u'beta': 0.75, u'bias': 1, u'input': u'model_0/model_0/__GPU__0/conv1/relu:0', u'alpha': 2e-05, u'type': u'lrnorm'}, u'maxpool': {u'padding': u'SAME', u'input': u'model_0/model_0/__GPU__0/conv1/norm:0', u'type': u'maxpool', u'kernel_size': [3, 3], u'stride': 2}, u'conv': {u'activation': u'relu', u'padding': u'VALID', u'stride': 4, u'init': u'xavier', u'bias': 0, u'stddev': 0.01, u'num_filters': 96, u'input': u'random_shuffle_queue_DequeueMany:0', u'weight_decay': 0.0005, u'type': u'conv', u'seed': 0, u'kernel_size': [11, 11]}}, u'model_0/conv2': {u'lrnorm': {u'depth_radius': 2, u'beta': 0.75, u'bias': 1, u'input': u'model_0/model_0/__GPU__0/conv2/relu:0', u'alpha': 2e-05, u'type': u'lrnorm'}, u'maxpool': {u'padding': u'SAME', u'input': u'model_0/model_0/__GPU__0/conv2/norm:0', u'type': u'maxpool', u'kernel_size': [3, 3], u'stride': 2}, u'conv': {u'activation': u'relu', u'padding': u'SAME', u'stride': 1, u'init': u'xavier', u'bias': 0.1, u'stddev': 0.01, u'num_filters': 256, u'input': u'model_0/model_0/__GPU__0/conv1/pool:0', u'weight_decay': 0.0005, u'type': u'conv', u'seed': 0, u'kernel_size': [5, 5]}}, u'model_0/conv3': {u'conv': {u'activation': u'relu', u'padding': u'SAME', u'stride': 1, u'init': u'xavier', u'bias': 0, u'stddev': 0.01, u'num_filters': 384, u'input': u'model_0/model_0/__GPU__0/conv2/pool:0', u'weight_decay': 0.0005, u'type': u'conv', u'seed': 0, u'kernel_size': [3, 3]}}, u'model_0/fc7': {u'fc': {u'activation': u'relu', u'init': u'trunc_norm', u'bias': 0.1, u'stddev': 0.01, u'num_filters': 4096, u'seed': 0, u'input': u'model_0/model_0/__GPU__0/fc6/dropout/mul:0', u'weight_decay': 0.0, u'type': u'fc', u'dropout': 0.5}}, u'model_0/fc6': {u'fc': {u'activation': u'relu', u'init': u'trunc_norm', u'bias': 0.1, u'stddev': 0.01, u'num_filters': 4096, u'seed': 0, u'input': u'model_0/model_0/__GPU__0/conv5/pool:0', u'weight_decay': 0.0, u'type': u'fc', u'dropout': 0.5}}}, u'seed': 0}, u'inter_op_parallelism_threads': 40, u'skip_check': False, u'load_params': {u'do_restore': True, u'collname': u'alexnet', u'dbname': u'imagenet', u'load_query': None, u'host': u'localhost', u'exp_id': u'experiment_1', u'port': 24444}, u'save_params': {u'save_filters_freq': 1, u'save_valid_freq': 10000, u'collname': u'alexnet', u'cache_filters_freq': 1, u'save_initial_filters': True, u'save_metrics_freq': 200, u'dbname': u'imagenet', u'port': 24444, u'host': u'35.203.151.24', u'exp_id': u'experiment_1', u'save_to_gfs': []}, u'learning_rate_params': {u'boundaries': [150000, 300000, 450000], u'values': [0.01, 0.005, 0.001, 0.0005], u'func': {u'modname': u'__main__', u'remote_urls': [u'https://github.com/neuroailab/cs375-private.git'], u'commit_in_log': True, u'source_path': u'copy_imagenet.py', u'active_branch_in_origin': True, u'git_dir': u'/home/mrowca/workspace/cs375-private/.git', u'objname': u'<lambda>', u'clean': True, u'active_branch': u'master', u'commit': u'53568fdf1a76c6fdcbb7241574700e0a35659351'}}, u'dont_run': False, u'validation_params': {u'topn_val': {u'valid_loop': {u'func': None}, u'data_params': {u'shuffle': False, u'n_threads': 4, u'data_path': u'/mnt/fs0/datasets/TFRecord_Imagenet_standard', u'file_pattern': u'validation*.tfrecords', u'batch_size': 256, u'func': {u'modname': u'dataprovider', u'remote_urls': [u'https://github.com/neuroailab/cs375-private.git'], u'commit_in_log': True, u'source_path': u'/home/mrowca/workspace/cs375-private/2017/assignment1-solution/dataprovider.py', u'active_branch_in_origin': True, u'git_dir': u'/home/mrowca/workspace/cs375-private/.git', u'objname': u'ImageNetDataProvider', u'clean': True, u'active_branch': u'master', u'commit': u'53568fdf1a76c6fdcbb7241574700e0a35659351'}, u'group': u'val', u'file_grab_func': {u'modname': u'__main__', u'remote_urls': [u'https://github.com/neuroailab/cs375-private.git'], u'commit_in_log': True, u'source_path': u'copy_imagenet.py', u'active_branch_in_origin': True, u'git_dir': u'/home/mrowca/workspace/cs375-private/.git', u'objname': u'subselect_tfrecords', u'clean': True, u'active_branch': u'master', u'commit': u'53568fdf1a76c6fdcbb7241574700e0a35659351'}, u'shuffle_seed': 0, u'crop_size': 227}, u'agg_func': {u'modname': u'__main__', u'remote_urls': [u'https://github.com/neuroailab/cs375-private.git'], u'commit_in_log': True, u'source_path': u'copy_imagenet.py', u'active_branch_in_origin': True, u'git_dir': u'/home/mrowca/workspace/cs375-private/.git', u'objname': u'<lambda>', u'clean': True, u'active_branch': u'master', u'commit': u'53568fdf1a76c6fdcbb7241574700e0a35659351'}, u'num_steps': 0, u'targets': {u'func': {u'modname': u'__main__', u'remote_urls': [u'https://github.com/neuroailab/cs375-private.git'], u'commit_in_log': True, u'source_path': u'copy_imagenet.py', u'active_branch_in_origin': True, u'git_dir': u'/home/mrowca/workspace/cs375-private/.git', u'objname': u'in_top_k', u'clean': True, u'active_branch': u'master', u'commit': u'53568fdf1a76c6fdcbb7241574700e0a35659351'}}, u'queue_params': {u'queue_type': u'fifo', u'seed': 0, u'capacity': 2560, u'min_after_dequeue': 1280, u'batch_size': 256}, u'online_agg_func': {u'modname': u'__main__', u'remote_urls': [u'https://github.com/neuroailab/cs375-private.git'], u'commit_in_log': True, u'source_path': u'copy_imagenet.py', u'active_branch_in_origin': True, u'git_dir': u'/home/mrowca/workspace/cs375-private/.git', u'objname': u'online_agg', u'clean': True, u'active_branch': u'master', u'commit': u'53568fdf1a76c6fdcbb7241574700e0a35659351'}}}, u'loss_params': {u'loss_func_kwargs': {}, u'loss_per_case_func': {u'modname': u'__main__', u'remote_urls': [u'https://github.com/neuroailab/cs375-private.git'], u'commit_in_log': True, u'source_path': u'copy_imagenet.py', u'active_branch_in_origin': True, u'git_dir': u'/home/mrowca/workspace/cs375-private/.git', u'objname': u'<lambda>', u'clean': True, u'active_branch': u'master', u'commit': u'53568fdf1a76c6fdcbb7241574700e0a35659351'}, u'agg_func': {u'modname': u'tensorflow.python.ops.math_ops', u'version': None, u'source_path': u'/usr/local/lib/python2.7/dist-packages/tensorflow/python/ops/math_ops.py', u'objname': u'reduce_mean'}, u'targets': [u'labels'], u'loss_per_case_func_params': {u'_targets_$all': u'inputs', u'_outputs': u'outputs'}}, u'train_params': {u'train_loop': {u'func': {u'modname': u'tfutils.base', u'remote_urls': [u'https://github.com/neuroailab/tfutils.git'], u'commit_in_log': True, u'source_path': u'/home/mrowca/workspace/tfutils/tfutils/base.py', u'active_branch_in_origin': True, u'git_dir': u'/home/mrowca/workspace/tfutils/.git', u'objname': u'train_loop', u'clean': False, u'active_branch': u'master', u'commit': u'a9da4d0d88053428c515a37d48840a450eb8d710'}}, u'data_params': {u'group': u'train', u'n_threads': 4, u'data_path': u'/mnt/fs0/datasets/TFRecord_Imagenet_standard', u'file_pattern': u'train*.tfrecords', u'batch_size': 256, u'func': {u'modname': u'dataprovider', u'remote_urls': [u'https://github.com/neuroailab/cs375-private.git'], u'commit_in_log': True, u'source_path': u'/home/mrowca/workspace/cs375-private/2017/assignment1-solution/dataprovider.py', u'active_branch_in_origin': True, u'git_dir': u'/home/mrowca/workspace/cs375-private/.git', u'objname': u'ImageNetDataProvider', u'clean': True, u'active_branch': u'master', u'commit': u'53568fdf1a76c6fdcbb7241574700e0a35659351'}, u'shuffle': False, u'file_grab_func': {u'modname': u'__main__', u'remote_urls': [u'https://github.com/neuroailab/cs375-private.git'], u'commit_in_log': True, u'source_path': u'copy_imagenet.py', u'active_branch_in_origin': True, u'git_dir': u'/home/mrowca/workspace/cs375-private/.git', u'objname': u'subselect_tfrecords', u'clean': True, u'active_branch': u'master', u'commit': u'53568fdf1a76c6fdcbb7241574700e0a35659351'}, u'shuffle_seed': 0, u'crop_size': 227}, u'num_steps': 440003, u'targets': {u'targets': [], u'func': {u'modname': u'__main__', u'remote_urls': [u'https://github.com/neuroailab/cs375-private.git'], u'commit_in_log': True, u'source_path': u'copy_imagenet.py', u'active_branch_in_origin': True, u'git_dir': u'/home/mrowca/workspace/cs375-private/.git', u'objname': u'return_outputs', u'clean': True, u'active_branch': u'master', u'commit': u'53568fdf1a76c6fdcbb7241574700e0a35659351'}}, u'thres_loss': 1000, u'validate_first': False, u'num_minibatches': 1, u'queue_params': {u'queue_type': u'random', u'seed': 0, u'capacity': 2560, u'min_after_dequeue': 1280, u'batch_size': 256}, u'minibatch_size': 256}, u'optimizer_params': {u'momentum': 0.9, u'clip': False, u'func': {u'modname': u'tfutils.optimizer', u'remote_urls': [u'https://github.com/neuroailab/tfutils.git'], u'commit_in_log': True, u'source_path': u'/home/mrowca/workspace/tfutils/tfutils/optimizer.py', u'active_branch_in_origin': True, u'git_dir': u'/home/mrowca/workspace/tfutils/.git', u'objname': u'ClipOptimizer', u'clean': False, u'active_branch': u'master', u'commit': u'a9da4d0d88053428c515a37d48840a450eb8d710'}, u'optimizer_class': {u'modname': u'tensorflow.python.training.momentum', u'version': None, u'source_path': u'/usr/local/lib/python2.7/dist-packages/tensorflow/python/training/momentum.py', u'objname': u'MomentumOptimizer'}}, u'log_device_placement': False}, u'uploadDate': datetime.datetime(2017, 10, 4, 0, 39, 30, 27000), u'step': 440003, u'exp_id': u'experiment_1', u'_id': ObjectId('59d42d671742f961665e20a4'), u'md5': u'a9f43e00f2e5abd206350ab85d71a307'}\n"
     ]
    }
   ],
   "source": [
    "query_train = {'exp_id': 'experiment_1', 'train_results': {'$exists' : True}}\n",
    "train_entries = collection.find(query_train)\n",
    "print(train_entries[0])"
   ]
  },
  {
   "cell_type": "code",
   "execution_count": 18,
   "metadata": {
    "collapsed": false
   },
   "outputs": [
    {
     "name": "stdout",
     "output_type": "stream",
     "text": [
      "{u'train_results': [{u'loss': 1.0932353734970093, u'learning_rate': 0.0010000000474974513}], u'_id': ObjectId('59d42d671742f961665e20a4')}\n"
     ]
    }
   ],
   "source": [
    "query_train = {'exp_id': 'experiment_1', 'train_results': {'$exists' : True}}\n",
    "train_entries = collection.find(query_train, projection = ['train_results'])\n",
    "print(train_entries[0])"
   ]
  },
  {
   "cell_type": "code",
   "execution_count": 19,
   "metadata": {
    "collapsed": true
   },
   "outputs": [],
   "source": [
    "loss = np.array([results['loss'] for entry in train_entries for results in entry['train_results']])"
   ]
  },
  {
   "cell_type": "code",
   "execution_count": 20,
   "metadata": {
    "collapsed": false
   },
   "outputs": [
    {
     "name": "stdout",
     "output_type": "stream",
     "text": [
      "[ 1.09323537]\n"
     ]
    }
   ],
   "source": [
    "print(loss)"
   ]
  },
  {
   "cell_type": "code",
   "execution_count": 22,
   "metadata": {
    "collapsed": false
   },
   "outputs": [
    {
     "data": {
      "text/plain": [
       "{u'_id': ObjectId('59dc11b9d4fdab0e0ca97a77'), u'value': 10.1}"
      ]
     },
     "execution_count": 22,
     "metadata": {},
     "output_type": "execute_result"
    }
   ],
   "source": [
    "entry_1 = {'value': 10.1}\n",
    "coll = collection['test_db']['test_coll']\n",
    "# to insert\n",
    "coll.insert_one(entry_1)\n",
    "coll.find({'value':{'$exists' : True}})[0]"
   ]
  },
  {
   "cell_type": "code",
   "execution_count": 24,
   "metadata": {
    "collapsed": true
   },
   "outputs": [],
   "source": []
  },
  {
   "cell_type": "code",
   "execution_count": 26,
   "metadata": {
    "collapsed": false
   },
   "outputs": [
    {
     "name": "stdout",
     "output_type": "stream",
     "text": [
      "[-0.96  1.44 -1.92  0.2   1.    1.76 -1.36  0.92  0.16  1.84  0.12  1.72\n",
      "  1.12 -1.48 -1.72 -0.8  -1.12 -1.04 -0.68 -1.68 -0.28  0.48 -1.88  0.84\n",
      " -0.2  -0.08 -1.76  2.    1.28  1.04  0.4   1.2   1.64  0.72  0.04 -0.92\n",
      " -1.28  0.24  0.52  0.96 -1.96  0.44 -0.32 -0.36 -1.84 -1.4  -1.32 -0.4\n",
      " -0.48 -1.8   1.68  0.36 -2.   -0.64 -0.88  0.   -1.56 -0.6  -1.08  0.08\n",
      " -1.6  -0.76  0.64  0.28  1.16  1.4  -0.72  1.36 -1.44  1.6  -1.24 -0.84\n",
      " -0.04  1.92  1.96  0.76 -1.2   1.8   0.88  1.08 -1.   -0.52  1.24 -0.16\n",
      " -0.44  0.6   0.32 -1.52  1.56  1.52  0.8   1.48 -0.56 -1.16  1.32 -1.64\n",
      "  1.88  0.68  0.56 -0.12 -0.24]\n",
      "[-1.884736  1.985984 -8.077888 -0.992     0.        4.451776 -3.515456\n",
      " -0.221312 -0.995904  5.229504 -0.998272  4.088448  0.404928 -4.241792\n",
      " -6.088448 -1.512    -2.404928 -2.124864 -1.314432 -5.741632 -1.021952\n",
      " -0.889408 -7.644672 -0.407296 -1.008    -1.000512 -6.451776  7.        1.097152\n",
      "  0.124864 -0.936     0.728     3.410944 -0.626752 -0.999936 -1.778688\n",
      " -3.097152 -0.986176 -0.859392 -0.115264 -8.529536 -0.914816 -1.032768\n",
      " -1.046656 -7.229504 -3.744    -3.299968 -1.064    -1.110592 -6.832\n",
      "  3.741632 -0.953344 -9.       -1.262144 -1.681472 -1.       -4.796416\n",
      " -1.216    -2.259712 -0.999488 -5.096    -1.438976 -0.737856 -0.978048\n",
      "  0.560896  1.744    -1.373248  1.515456 -3.985984  3.096    -2.906624\n",
      " -1.592704 -1.000064  6.077888  6.529536 -0.561024 -2.728     4.832\n",
      " -0.318528  0.259712 -2.       -1.140608  0.906624 -1.004096 -1.085184\n",
      " -0.784    -0.967232 -4.511808  2.796416  2.511808 -0.488     2.241792\n",
      " -1.175616 -2.560896  1.299968 -5.410944  5.644672 -0.685568 -0.824384\n",
      " -1.001728 -1.013824]\n"
     ]
    }
   ],
   "source": [
    "x = np.linspace(-2,2,101)[np.random.RandomState(0).permutation(101)]\n",
    "y = x ** 3 -1\n",
    "\n",
    "print(x)\n",
    "print(y)"
   ]
  },
  {
   "cell_type": "code",
   "execution_count": 28,
   "metadata": {
    "collapsed": true
   },
   "outputs": [],
   "source": [
    "\n",
    "database = connection['task']\n",
    "coll = database['polyfunction']\n",
    "\n",
    "l = []\n",
    "for i,j in zip(x,y):\n",
    "    coll.insert_one({'x':i,'y':j})"
   ]
  },
  {
   "cell_type": "code",
   "execution_count": 103,
   "metadata": {
    "collapsed": false
   },
   "outputs": [
    {
     "data": {
      "text/plain": [
       "[{u'_id': ObjectId('59dc138cd4fdab0e0ca97b05'), u'x': -1.96},\n",
       " {u'_id': ObjectId('59dc138cd4fdab0e0ca97adf'), u'x': -1.92},\n",
       " {u'_id': ObjectId('59dc138cd4fdab0e0ca97af3'), u'x': -1.88},\n",
       " {u'_id': ObjectId('59dc138cd4fdab0e0ca97b09'), u'x': -1.84},\n",
       " {u'_id': ObjectId('59dc138cd4fdab0e0ca97b0e'), u'x': -1.8},\n",
       " {u'_id': ObjectId('59dc138cd4fdab0e0ca97af7'), u'x': -1.76},\n",
       " {u'_id': ObjectId('59dc138cd4fdab0e0ca97aeb'), u'x': -1.72},\n",
       " {u'_id': ObjectId('59dc138cd4fdab0e0ca97af0'), u'x': -1.68},\n",
       " {u'_id': ObjectId('59dc138cd4fdab0e0ca97b3c'), u'x': -1.6400000000000001},\n",
       " {u'_id': ObjectId('59dc138cd4fdab0e0ca97b19'), u'x': -1.6},\n",
       " {u'_id': ObjectId('59dc138cd4fdab0e0ca97b15'), u'x': -1.56},\n",
       " {u'_id': ObjectId('59dc138cd4fdab0e0ca97b34'), u'x': -1.52},\n",
       " {u'_id': ObjectId('59dc138cd4fdab0e0ca97aea'), u'x': -1.48},\n",
       " {u'_id': ObjectId('59dc138cd4fdab0e0ca97b21'), u'x': -1.44},\n",
       " {u'_id': ObjectId('59dc138cd4fdab0e0ca97b0a'), u'x': -1.4},\n",
       " {u'_id': ObjectId('59dc138cd4fdab0e0ca97ae3'), u'x': -1.3599999999999999},\n",
       " {u'_id': ObjectId('59dc138cd4fdab0e0ca97b0b'), u'x': -1.3199999999999998},\n",
       " {u'_id': ObjectId('59dc138cd4fdab0e0ca97b01'), u'x': -1.28},\n",
       " {u'_id': ObjectId('59dc138cd4fdab0e0ca97b23'), u'x': -1.24},\n",
       " {u'_id': ObjectId('59dc138cd4fdab0e0ca97b29'), u'x': -1.2},\n",
       " {u'_id': ObjectId('59dc138cd4fdab0e0ca97b3a'), u'x': -1.1600000000000001},\n",
       " {u'_id': ObjectId('59dc138cd4fdab0e0ca97aed'), u'x': -1.12},\n",
       " {u'_id': ObjectId('59dc138cd4fdab0e0ca97b17'), u'x': -1.08},\n",
       " {u'_id': ObjectId('59dc138cd4fdab0e0ca97aee'), u'x': -1.04},\n",
       " {u'_id': ObjectId('59dc138cd4fdab0e0ca97b2d'), u'x': -1.0},\n",
       " {u'_id': ObjectId('59dc138cd4fdab0e0ca97add'), u'x': -0.96},\n",
       " {u'_id': ObjectId('59dc138cd4fdab0e0ca97b00'), u'x': -0.9199999999999999},\n",
       " {u'_id': ObjectId('59dc138cd4fdab0e0ca97b13'), u'x': -0.8799999999999999},\n",
       " {u'_id': ObjectId('59dc138cd4fdab0e0ca97b24'), u'x': -0.8400000000000001},\n",
       " {u'_id': ObjectId('59dc138cd4fdab0e0ca97aec'), u'x': -0.8},\n",
       " {u'_id': ObjectId('59dc138cd4fdab0e0ca97b1a'), u'x': -0.76},\n",
       " {u'_id': ObjectId('59dc138cd4fdab0e0ca97b1f'), u'x': -0.72},\n",
       " {u'_id': ObjectId('59dc138cd4fdab0e0ca97aef'), u'x': -0.6799999999999999},\n",
       " {u'_id': ObjectId('59dc138cd4fdab0e0ca97b12'), u'x': -0.6399999999999999},\n",
       " {u'_id': ObjectId('59dc138cd4fdab0e0ca97b16'), u'x': -0.5999999999999999},\n",
       " {u'_id': ObjectId('59dc138cd4fdab0e0ca97b39'), u'x': -0.56},\n",
       " {u'_id': ObjectId('59dc138cd4fdab0e0ca97b2e'), u'x': -0.52},\n",
       " {u'_id': ObjectId('59dc138cd4fdab0e0ca97b0d'), u'x': -0.48},\n",
       " {u'_id': ObjectId('59dc138cd4fdab0e0ca97b31'), u'x': -0.43999999999999995},\n",
       " {u'_id': ObjectId('59dc138cd4fdab0e0ca97b0c'), u'x': -0.3999999999999999},\n",
       " {u'_id': ObjectId('59dc138cd4fdab0e0ca97b08'), u'x': -0.3599999999999999},\n",
       " {u'_id': ObjectId('59dc138cd4fdab0e0ca97b07'), u'x': -0.32000000000000006},\n",
       " {u'_id': ObjectId('59dc138cd4fdab0e0ca97af1'), u'x': -0.28},\n",
       " {u'_id': ObjectId('59dc138cd4fdab0e0ca97b41'), u'x': -0.24},\n",
       " {u'_id': ObjectId('59dc138cd4fdab0e0ca97af5'), u'x': -0.19999999999999996},\n",
       " {u'_id': ObjectId('59dc138cd4fdab0e0ca97b30'), u'x': -0.15999999999999992},\n",
       " {u'_id': ObjectId('59dc138cd4fdab0e0ca97b40'), u'x': -0.11999999999999988},\n",
       " {u'_id': ObjectId('59dc138cd4fdab0e0ca97af6'), u'x': -0.08000000000000007},\n",
       " {u'_id': ObjectId('59dc138cd4fdab0e0ca97b25'), u'x': -0.040000000000000036},\n",
       " {u'_id': ObjectId('59dc138cd4fdab0e0ca97b14'), u'x': 0.0},\n",
       " {u'_id': ObjectId('59dc138cd4fdab0e0ca97aff'), u'x': 0.040000000000000036},\n",
       " {u'_id': ObjectId('59dc138cd4fdab0e0ca97b18'), u'x': 0.08000000000000007},\n",
       " {u'_id': ObjectId('59dc138cd4fdab0e0ca97ae7'), u'x': 0.1200000000000001},\n",
       " {u'_id': ObjectId('59dc138cd4fdab0e0ca97ae5'), u'x': 0.16000000000000014},\n",
       " {u'_id': ObjectId('59dc138cd4fdab0e0ca97ae0'), u'x': 0.20000000000000018},\n",
       " {u'_id': ObjectId('59dc138cd4fdab0e0ca97b02'), u'x': 0.2400000000000002},\n",
       " {u'_id': ObjectId('59dc138cd4fdab0e0ca97b1c'), u'x': 0.28000000000000025},\n",
       " {u'_id': ObjectId('59dc138cd4fdab0e0ca97b33'), u'x': 0.31999999999999984},\n",
       " {u'_id': ObjectId('59dc138cd4fdab0e0ca97b10'), u'x': 0.3599999999999999},\n",
       " {u'_id': ObjectId('59dc138cd4fdab0e0ca97afb'), u'x': 0.3999999999999999},\n",
       " {u'_id': ObjectId('59dc138cd4fdab0e0ca97b06'), u'x': 0.43999999999999995},\n",
       " {u'_id': ObjectId('59dc138cd4fdab0e0ca97af2'), u'x': 0.48},\n",
       " {u'_id': ObjectId('59dc138cd4fdab0e0ca97b03'), u'x': 0.52},\n",
       " {u'_id': ObjectId('59dc138cd4fdab0e0ca97b3f'), u'x': 0.56},\n",
       " {u'_id': ObjectId('59dc138cd4fdab0e0ca97b32'), u'x': 0.6000000000000001},\n",
       " {u'_id': ObjectId('59dc138cd4fdab0e0ca97b1b'), u'x': 0.6400000000000001},\n",
       " {u'_id': ObjectId('59dc138cd4fdab0e0ca97b3e'), u'x': 0.6800000000000002},\n",
       " {u'_id': ObjectId('59dc138cd4fdab0e0ca97afe'), u'x': 0.7200000000000002},\n",
       " {u'_id': ObjectId('59dc138cd4fdab0e0ca97b28'), u'x': 0.7600000000000002},\n",
       " {u'_id': ObjectId('59dc138cd4fdab0e0ca97b37'), u'x': 0.8000000000000003},\n",
       " {u'_id': ObjectId('59dc138cd4fdab0e0ca97af4'), u'x': 0.8399999999999999},\n",
       " {u'_id': ObjectId('59dc138cd4fdab0e0ca97b2b'), u'x': 0.8799999999999999},\n",
       " {u'_id': ObjectId('59dc138cd4fdab0e0ca97ae4'), u'x': 0.9199999999999999},\n",
       " {u'_id': ObjectId('59dc138cd4fdab0e0ca97b04'), u'x': 0.96},\n",
       " {u'_id': ObjectId('59dc138cd4fdab0e0ca97ae1'), u'x': 1.0},\n",
       " {u'_id': ObjectId('59dc138cd4fdab0e0ca97afa'), u'x': 1.04},\n",
       " {u'_id': ObjectId('59dc138cd4fdab0e0ca97b2c'), u'x': 1.08},\n",
       " {u'_id': ObjectId('59dc138cd4fdab0e0ca97ae9'), u'x': 1.12},\n",
       " {u'_id': ObjectId('59dc138cd4fdab0e0ca97b1d'), u'x': 1.1600000000000001},\n",
       " {u'_id': ObjectId('59dc138cd4fdab0e0ca97afc'), u'x': 1.2000000000000002},\n",
       " {u'_id': ObjectId('59dc138cd4fdab0e0ca97b2f'), u'x': 1.2400000000000002},\n",
       " {u'_id': ObjectId('59dc138cd4fdab0e0ca97af9'), u'x': 1.2800000000000002},\n",
       " {u'_id': ObjectId('59dc138cd4fdab0e0ca97b3b'), u'x': 1.3200000000000003},\n",
       " {u'_id': ObjectId('59dc138cd4fdab0e0ca97b20'), u'x': 1.3599999999999999},\n",
       " {u'_id': ObjectId('59dc138cd4fdab0e0ca97b1e'), u'x': 1.4},\n",
       " {u'_id': ObjectId('59dc138cd4fdab0e0ca97ade'), u'x': 1.44},\n",
       " {u'_id': ObjectId('59dc138cd4fdab0e0ca97b38'), u'x': 1.48},\n",
       " {u'_id': ObjectId('59dc138cd4fdab0e0ca97b36'), u'x': 1.52},\n",
       " {u'_id': ObjectId('59dc138cd4fdab0e0ca97b35'), u'x': 1.56},\n",
       " {u'_id': ObjectId('59dc138cd4fdab0e0ca97b22'), u'x': 1.6},\n",
       " {u'_id': ObjectId('59dc138cd4fdab0e0ca97afd'), u'x': 1.6400000000000001},\n",
       " {u'_id': ObjectId('59dc138cd4fdab0e0ca97b0f'), u'x': 1.6800000000000002},\n",
       " {u'_id': ObjectId('59dc138cd4fdab0e0ca97ae8'), u'x': 1.7200000000000002},\n",
       " {u'_id': ObjectId('59dc138cd4fdab0e0ca97ae2'), u'x': 1.7600000000000002},\n",
       " {u'_id': ObjectId('59dc138cd4fdab0e0ca97b2a'), u'x': 1.8000000000000003},\n",
       " {u'_id': ObjectId('59dc138cd4fdab0e0ca97ae6'), u'x': 1.8399999999999999},\n",
       " {u'_id': ObjectId('59dc138cd4fdab0e0ca97b3d'), u'x': 1.88},\n",
       " {u'_id': ObjectId('59dc138cd4fdab0e0ca97b26'), u'x': 1.92},\n",
       " {u'_id': ObjectId('59dc138cd4fdab0e0ca97b27'), u'x': 1.96},\n",
       " {u'_id': ObjectId('59dc138cd4fdab0e0ca97af8'), u'x': 2.0}]"
      ]
     },
     "execution_count": 103,
     "metadata": {},
     "output_type": "execute_result"
    }
   ],
   "source": [
    "list(coll.find(projection=['x']).sort([('x',pm.ASCENDING),('y',pm.DESCENDING)]))"
   ]
  },
  {
   "cell_type": "code",
   "execution_count": 118,
   "metadata": {
    "collapsed": false
   },
   "outputs": [],
   "source": [
    "\n",
    "\n",
    "sortX = list(coll.find(projection=['x','y']))\n",
    "x = [entry['x'] for entry in sortX]\n",
    "y = [entry['y'] for entry in sortX]"
   ]
  },
  {
   "cell_type": "code",
   "execution_count": 119,
   "metadata": {
    "collapsed": false
   },
   "outputs": [
    {
     "data": {
      "text/plain": [
       "[<matplotlib.lines.Line2D at 0x7fcd01c6b790>]"
      ]
     },
     "execution_count": 119,
     "metadata": {},
     "output_type": "execute_result"
    },
    {
     "data": {
      "image/png": "[encoded data removed]",
      "text/plain": [
       "<matplotlib.figure.Figure at 0x7fcd01b81310>"
      ]
     },
     "metadata": {},
     "output_type": "display_data"
    }
   ],
   "source": [
    "%matplotlib inline\n",
    "import matplotlib.pyplot as plt\n",
    "import pymongo as pm\n",
    "plt.plot(x,y)"
   ]
  },
  {
   "cell_type": "code",
   "execution_count": 102,
   "metadata": {
    "collapsed": false
   },
   "outputs": [
    {
     "data": {
      "text/plain": [
       "<pymongo.results.DeleteResult at 0x7fcd2002ecb0>"
      ]
     },
     "execution_count": 102,
     "metadata": {},
     "output_type": "execute_result"
    }
   ],
   "source": [
    "coll.delete_one({'x':-2.0})"
   ]
  },
  {
   "cell_type": "code",
   "execution_count": 105,
   "metadata": {
    "collapsed": false
   },
   "outputs": [
    {
     "ename": "TypeError",
     "evalue": "'instancemethod' object has no attribute '__getitem__'",
     "output_type": "error",
     "traceback": [
      "\u001b[1;31m---------------------------------------------------------------------------\u001b[0m",
      "\u001b[1;31mTypeError\u001b[0m                                 Traceback (most recent call last)",
      "\u001b[1;32m<ipython-input-105-eb83269972b7>\u001b[0m in \u001b[0;36m<module>\u001b[1;34m()\u001b[0m\n\u001b[1;32m----> 1\u001b[1;33m \u001b[0mconnection\u001b[0m\u001b[1;33m[\u001b[0m\u001b[1;34m'task'\u001b[0m\u001b[1;33m]\u001b[0m\u001b[1;33m.\u001b[0m\u001b[0mdrop_collection\u001b[0m\u001b[1;33m[\u001b[0m\u001b[1;34m'polyfunction'\u001b[0m\u001b[1;33m]\u001b[0m\u001b[1;33m\u001b[0m\u001b[0m\n\u001b[0m\u001b[0;32m      2\u001b[0m \u001b[0mconnection\u001b[0m\u001b[1;33m.\u001b[0m\u001b[0mdrop_database\u001b[0m\u001b[1;33m[\u001b[0m\u001b[1;34m'task'\u001b[0m\u001b[1;33m]\u001b[0m\u001b[1;33m\u001b[0m\u001b[0m\n",
      "\u001b[1;31mTypeError\u001b[0m: 'instancemethod' object has no attribute '__getitem__'"
     ]
    }
   ],
   "source": [
    "connection['task'].drop_collection['polyfunction']\n",
    "connection.drop_database['task']\n",
    "\n"
   ]
  },
  {
   "cell_type": "code",
   "execution_count": 108,
   "metadata": {
    "collapsed": false
   },
   "outputs": [
    {
     "data": {
      "text/plain": [
       "Database(MongoClient(host=['localhost:24444'], document_class=dict, tz_aware=False, connect=True), u'task')"
      ]
     },
     "execution_count": 108,
     "metadata": {},
     "output_type": "execute_result"
    }
   ],
   "source": [
    "connection['task']"
   ]
  },
  {
   "cell_type": "code",
   "execution_count": 114,
   "metadata": {
    "collapsed": false
   },
   "outputs": [
    {
     "name": "stdout",
     "output_type": "stream",
     "text": [
      "[-9.0, -8.529536, -8.077887999999998, -7.644671999999999, -7.229504, -6.832000000000001, -6.451776, -6.088448, -5.741631999999999, -5.410944000000001, -5.096000000000001, -4.796416000000001, -4.511808, -4.241792, -3.9859839999999997, -3.7439999999999993, -3.5154559999999995, -3.2999679999999993, -3.0971520000000003, -2.906624, -2.7279999999999998, -2.5608960000000005, -2.4049280000000004, -2.2597120000000004, -2.124864, -2.0, -1.8847359999999997, -1.7786879999999998, -1.6814719999999999, -1.5927040000000001, -1.512, -1.438976, -1.373248, -1.314432, -1.262144, -1.2159999999999997, -1.175616, -1.140608, -1.110592, -1.085184, -1.064, -1.046656, -1.032768, -1.021952, -1.013824, -1.008, -1.004096, -1.001728, -1.000512, -1.000064, -1.0, -0.999936, -0.999488, -0.998272, -0.995904, -0.992, -0.9861759999999999, -0.9780479999999999, -0.9672320000000001, -0.9533440000000001, -0.936, -0.9148160000000001, -0.889408, -0.8593919999999999, -0.824384, -0.7839999999999999, -0.7378559999999998, -0.6855679999999997, -0.6267519999999998, -0.5610239999999995, -0.48799999999999943, -0.4072960000000003, -0.31852800000000026, -0.22131200000000018, -0.11526400000000014, 0.0, 0.12486400000000009, 0.25971200000000016, 0.4049280000000004, 0.5608960000000005, 0.7280000000000009, 0.906624000000001, 1.0971520000000012, 1.2999680000000016, 1.5154559999999995, 1.7439999999999993, 1.9859839999999997, 2.241792, 2.5118080000000003, 2.7964160000000002, 3.096000000000001, 3.4109440000000006, 3.741632000000001, 4.088448000000001, 4.451776000000002, 4.8320000000000025, 5.229503999999999, 5.644671999999999, 6.077887999999999, 6.529535999999999, 7.0]\n"
     ]
    }
   ],
   "source": [
    "print(y)"
   ]
  },
  {
   "cell_type": "code",
   "execution_count": 121,
   "metadata": {
    "collapsed": false
   },
   "outputs": [],
   "source": [
    "import tensorflow as tf\n",
    "import numpy as np\n",
    "\n",
    "# placeholder\n",
    "input_placeholder = tf.placeholder(tf.float32,shape =[None,3])\n",
    "# trainable variables arndomly initialized\n",
    "W1 = tf.Variable(tf.random_normal(shape=[3,20]), tf.float32)\n",
    "b1 = tf.Variable(tf.random_normal(shape=[20,]), tf.float32)\n",
    "W2 = tf.Variable(tf.random_normal(shape=[20,3]), tf.float32)\n",
    "b2 = tf.Variable(tf.random_normal(shape=[3,]), tf.float32)\n",
    "# hidden layer\n",
    "h = tf.nn.sigmoid(tf.matmul(input_placeholder, W1) + b1)\n",
    "# output\n",
    "out = tf.matmul(h,W2) + b2"
   ]
  },
  {
   "cell_type": "code",
   "execution_count": 122,
   "metadata": {
    "collapsed": false
   },
   "outputs": [
    {
     "name": "stdout",
     "output_type": "stream",
     "text": [
      "Tensor(\"add_2:0\", shape=(?, 3), dtype=float32)\n"
     ]
    }
   ],
   "source": [
    "print(out)"
   ]
  },
  {
   "cell_type": "code",
   "execution_count": null,
   "metadata": {
    "collapsed": true
   },
   "outputs": [],
   "source": []
  }
 ],
 "metadata": {
  "kernelspec": {
   "display_name": "Python 2",
   "language": "python",
   "name": "python2"
  },
  "language_info": {
   "codemirror_mode": {
    "name": "ipython",
    "version": 2
   },
   "file_extension": ".py",
   "mimetype": "text/x-python",
   "name": "python",
   "nbconvert_exporter": "python",
   "pygments_lexer": "ipython2",
   "version": "2.7.12"
  }
 },
 "nbformat": 4,
 "nbformat_minor": 0
}
