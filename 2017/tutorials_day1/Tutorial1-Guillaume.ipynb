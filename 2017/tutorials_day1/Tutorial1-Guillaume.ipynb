{
 "cells": [
  {
   "cell_type": "code",
   "execution_count": 2,
   "metadata": {
    "collapsed": true
   },
   "outputs": [],
   "source": [
    "import pymongo as pm\n",
    "import numpy as np\n",
    "import matplotlib.pyplot as plt\n",
    "import tensorflow as tf\n",
    "\n",
    "port = 24444\n",
    "host = 'localhost'\n",
    "connection = pm.MongoClient(port = port,host = host)"
   ]
  },
  {
   "cell_type": "code",
   "execution_count": 3,
   "metadata": {
    "collapsed": false
   },
   "outputs": [
    {
     "name": "stdout",
     "output_type": "stream",
     "text": [
      "[u'imagenet', u'local', u'tfutils-test']\n"
     ]
    },
    {
     "data": {
      "text/plain": [
       "[u'imagenet', u'local', u'mnist', u'mnist_simple_exp1_RECENT']"
      ]
     },
     "execution_count": 3,
     "metadata": {},
     "output_type": "execute_result"
    }
   ],
   "source": [
    "print(connection.database_names()[-4:])\n",
    "[u'imagenet', u'local',u'mnist',u'mnist_simple_exp1_RECENT']"
   ]
  },
  {
   "cell_type": "code",
   "execution_count": null,
   "metadata": {
    "collapsed": true
   },
   "outputs": [],
   "source": []
  },
  {
   "cell_type": "code",
   "execution_count": 4,
   "metadata": {
    "collapsed": false
   },
   "outputs": [
    {
     "data": {
      "text/plain": [
       "[u'alexnet.files', u'alexnet.chunks']"
      ]
     },
     "execution_count": 4,
     "metadata": {},
     "output_type": "execute_result"
    }
   ],
   "source": [
    "database = connection['imagenet']\n",
    "database.collection_names()"
   ]
  },
  {
   "cell_type": "code",
   "execution_count": 5,
   "metadata": {
    "collapsed": false
   },
   "outputs": [
    {
     "data": {
      "text/plain": [
       "[u'experiment_1']"
      ]
     },
     "execution_count": 5,
     "metadata": {},
     "output_type": "execute_result"
    }
   ],
   "source": [
    "collection = database['alexnet.files']\n",
    "collection.distinct('exp_id')"
   ]
  },
  {
   "cell_type": "code",
   "execution_count": 8,
   "metadata": {
    "collapsed": false
   },
   "outputs": [
    {
     "name": "stdout",
     "output_type": "stream",
     "text": [
      "0\n"
     ]
    }
   ],
   "source": [
    "query = {'expi_id':'experiment_1','train_results':{'$exists':True}}\n",
    "entries = collection.find(query)\n",
    "print(entries.count())\n"
   ]
  },
  {
   "cell_type": "code",
   "execution_count": 14,
   "metadata": {
    "collapsed": false
   },
   "outputs": [
    {
     "name": "stdout",
     "output_type": "stream",
     "text": [
      "[-0.96  1.44 -1.92  0.2   1.    1.76 -1.36  0.92  0.16  1.84  0.12  1.72\n",
      "  1.12 -1.48 -1.72 -0.8  -1.12 -1.04 -0.68 -1.68 -0.28  0.48 -1.88  0.84\n",
      " -0.2  -0.08 -1.76  2.    1.28  1.04  0.4   1.2   1.64  0.72  0.04 -0.92\n",
      " -1.28  0.24  0.52  0.96 -1.96  0.44 -0.32 -0.36 -1.84 -1.4  -1.32 -0.4\n",
      " -0.48 -1.8   1.68  0.36 -2.   -0.64 -0.88  0.   -1.56 -0.6  -1.08  0.08\n",
      " -1.6  -0.76  0.64  0.28  1.16  1.4  -0.72  1.36 -1.44  1.6  -1.24 -0.84\n",
      " -0.04  1.92  1.96  0.76 -1.2   1.8   0.88  1.08 -1.   -0.52  1.24 -0.16\n",
      " -0.44  0.6   0.32 -1.52  1.56  1.52  0.8   1.48 -0.56 -1.16  1.32 -1.64\n",
      "  1.88  0.68  0.56 -0.12 -0.24]\n",
      "[-1.884736  1.985984 -8.077888 -0.992     0.        4.451776 -3.515456\n",
      " -0.221312 -0.995904  5.229504 -0.998272  4.088448  0.404928 -4.241792\n",
      " -6.088448 -1.512    -2.404928 -2.124864 -1.314432 -5.741632 -1.021952\n",
      " -0.889408 -7.644672 -0.407296 -1.008    -1.000512 -6.451776  7.        1.097152\n",
      "  0.124864 -0.936     0.728     3.410944 -0.626752 -0.999936 -1.778688\n",
      " -3.097152 -0.986176 -0.859392 -0.115264 -8.529536 -0.914816 -1.032768\n",
      " -1.046656 -7.229504 -3.744    -3.299968 -1.064    -1.110592 -6.832\n",
      "  3.741632 -0.953344 -9.       -1.262144 -1.681472 -1.       -4.796416\n",
      " -1.216    -2.259712 -0.999488 -5.096    -1.438976 -0.737856 -0.978048\n",
      "  0.560896  1.744    -1.373248  1.515456 -3.985984  3.096    -2.906624\n",
      " -1.592704 -1.000064  6.077888  6.529536 -0.561024 -2.728     4.832\n",
      " -0.318528  0.259712 -2.       -1.140608  0.906624 -1.004096 -1.085184\n",
      " -0.784    -0.967232 -4.511808  2.796416  2.511808 -0.488     2.241792\n",
      " -1.175616 -2.560896  1.299968 -5.410944  5.644672 -0.685568 -0.824384\n",
      " -1.001728 -1.013824]\n"
     ]
    }
   ],
   "source": [
    "x = np.linspace(-2,2,101)[np.random.RandomState(0).permutation(101)]\n",
    "y = x ** 3 -1\n",
    "print(x)\n",
    "print(y)"
   ]
  },
  {
   "cell_type": "code",
   "execution_count": 19,
   "metadata": {
    "collapsed": false
   },
   "outputs": [],
   "source": [
    "database = connection['tasks']\n",
    "collection = database['polyfunction']\n",
    "\n",
    "for i,j in zip(x,y):\n",
    "    collection.insert_one({'x':i,'y':j})\n",
    "\n"
   ]
  },
  {
   "cell_type": "code",
   "execution_count": 22,
   "metadata": {
    "collapsed": false
   },
   "outputs": [
    {
     "name": "stdout",
     "output_type": "stream",
     "text": [
      "<pymongo.cursor.Cursor object at 0x7fb950084650>\n"
     ]
    }
   ],
   "source": [
    "query = collection.find({'x': {'$exists':True}})\n",
    "print(query)\n"
   ]
  },
  {
   "cell_type": "code",
   "execution_count": 37,
   "metadata": {
    "collapsed": false
   },
   "outputs": [],
   "source": [
    "result = list(collection.find({}, projection=['x','y']).sort([('x', pm.ASCENDING), ('y', pm.ASCENDING)]))"
   ]
  },
  {
   "cell_type": "code",
   "execution_count": 38,
   "metadata": {
    "collapsed": false
   },
   "outputs": [
    {
     "data": {
      "text/plain": [
       "101"
      ]
     },
     "execution_count": 38,
     "metadata": {},
     "output_type": "execute_result"
    }
   ],
   "source": [
    "len(result)"
   ]
  },
  {
   "cell_type": "code",
   "execution_count": 47,
   "metadata": {
    "collapsed": true
   },
   "outputs": [
    {
     "data": {
      "text/plain": [
       "[{u'_id': ObjectId('59dc1524d4fdab0e25848a5e'), u'x': -0.96},\n",
       " {u'_id': ObjectId('59dc1524d4fdab0e25848a60'), u'x': -1.92},\n",
       " {u'_id': ObjectId('59dc1524d4fdab0e25848a64'), u'x': -1.3599999999999999},\n",
       " {u'_id': ObjectId('59dc1524d4fdab0e25848a6b'), u'x': -1.48},\n",
       " {u'_id': ObjectId('59dc1524d4fdab0e25848a6c'), u'x': -1.72},\n",
       " {u'_id': ObjectId('59dc1524d4fdab0e25848a6d'), u'x': -0.8},\n",
       " {u'_id': ObjectId('59dc1524d4fdab0e25848a6e'), u'x': -1.12},\n",
       " {u'_id': ObjectId('59dc1524d4fdab0e25848a6f'), u'x': -1.04},\n",
       " {u'_id': ObjectId('59dc1524d4fdab0e25848a70'), u'x': -0.6799999999999999},\n",
       " {u'_id': ObjectId('59dc1524d4fdab0e25848a71'), u'x': -1.68},\n",
       " {u'_id': ObjectId('59dc1524d4fdab0e25848a72'), u'x': -0.28},\n",
       " {u'_id': ObjectId('59dc1524d4fdab0e25848a74'), u'x': -1.88},\n",
       " {u'_id': ObjectId('59dc1524d4fdab0e25848a76'), u'x': -0.19999999999999996},\n",
       " {u'_id': ObjectId('59dc1524d4fdab0e25848a77'), u'x': -0.08000000000000007},\n",
       " {u'_id': ObjectId('59dc1524d4fdab0e25848a78'), u'x': -1.76},\n",
       " {u'_id': ObjectId('59dc1524d4fdab0e25848a81'), u'x': -0.9199999999999999},\n",
       " {u'_id': ObjectId('59dc1524d4fdab0e25848a82'), u'x': -1.28},\n",
       " {u'_id': ObjectId('59dc1524d4fdab0e25848a86'), u'x': -1.96},\n",
       " {u'_id': ObjectId('59dc1524d4fdab0e25848a88'), u'x': -0.32000000000000006},\n",
       " {u'_id': ObjectId('59dc1524d4fdab0e25848a89'), u'x': -0.3599999999999999},\n",
       " {u'_id': ObjectId('59dc1524d4fdab0e25848a8a'), u'x': -1.84},\n",
       " {u'_id': ObjectId('59dc1524d4fdab0e25848a8b'), u'x': -1.4},\n",
       " {u'_id': ObjectId('59dc1524d4fdab0e25848a8c'), u'x': -1.3199999999999998},\n",
       " {u'_id': ObjectId('59dc1524d4fdab0e25848a8d'), u'x': -0.3999999999999999},\n",
       " {u'_id': ObjectId('59dc1524d4fdab0e25848a8e'), u'x': -0.48},\n",
       " {u'_id': ObjectId('59dc1524d4fdab0e25848a8f'), u'x': -1.8},\n",
       " {u'_id': ObjectId('59dc1524d4fdab0e25848a92'), u'x': -2.0},\n",
       " {u'_id': ObjectId('59dc1524d4fdab0e25848a93'), u'x': -0.6399999999999999},\n",
       " {u'_id': ObjectId('59dc1524d4fdab0e25848a94'), u'x': -0.8799999999999999},\n",
       " {u'_id': ObjectId('59dc1524d4fdab0e25848a95'), u'x': 0.0},\n",
       " {u'_id': ObjectId('59dc1524d4fdab0e25848a96'), u'x': -1.56},\n",
       " {u'_id': ObjectId('59dc1524d4fdab0e25848a97'), u'x': -0.5999999999999999},\n",
       " {u'_id': ObjectId('59dc1524d4fdab0e25848a98'), u'x': -1.08},\n",
       " {u'_id': ObjectId('59dc1524d4fdab0e25848a9a'), u'x': -1.6},\n",
       " {u'_id': ObjectId('59dc1524d4fdab0e25848a9b'), u'x': -0.76},\n",
       " {u'_id': ObjectId('59dc1524d4fdab0e25848aa0'), u'x': -0.72},\n",
       " {u'_id': ObjectId('59dc1524d4fdab0e25848aa2'), u'x': -1.44},\n",
       " {u'_id': ObjectId('59dc1524d4fdab0e25848aa4'), u'x': -1.24},\n",
       " {u'_id': ObjectId('59dc1524d4fdab0e25848aa5'), u'x': -0.8400000000000001},\n",
       " {u'_id': ObjectId('59dc1524d4fdab0e25848aa6'), u'x': -0.040000000000000036},\n",
       " {u'_id': ObjectId('59dc1524d4fdab0e25848aaa'), u'x': -1.2},\n",
       " {u'_id': ObjectId('59dc1524d4fdab0e25848aae'), u'x': -1.0},\n",
       " {u'_id': ObjectId('59dc1524d4fdab0e25848aaf'), u'x': -0.52},\n",
       " {u'_id': ObjectId('59dc1524d4fdab0e25848ab1'), u'x': -0.15999999999999992},\n",
       " {u'_id': ObjectId('59dc1524d4fdab0e25848ab2'), u'x': -0.43999999999999995},\n",
       " {u'_id': ObjectId('59dc1524d4fdab0e25848ab5'), u'x': -1.52},\n",
       " {u'_id': ObjectId('59dc1524d4fdab0e25848aba'), u'x': -0.56},\n",
       " {u'_id': ObjectId('59dc1524d4fdab0e25848abb'), u'x': -1.1600000000000001},\n",
       " {u'_id': ObjectId('59dc1524d4fdab0e25848abd'), u'x': -1.6400000000000001},\n",
       " {u'_id': ObjectId('59dc1524d4fdab0e25848ac1'), u'x': -0.11999999999999988},\n",
       " {u'_id': ObjectId('59dc1524d4fdab0e25848ac2'), u'x': -0.24}]"
      ]
     },
     "execution_count": 47,
     "metadata": {},
     "output_type": "execute_result"
    }
   ],
   "source": [
    "list(collection.find({'x':{'$lte':0}},projection=['x'])"
   ]
  },
  {
   "cell_type": "code",
   "execution_count": null,
   "metadata": {
    "collapsed": true
   },
   "outputs": [],
   "source": []
  }
 ],
 "metadata": {
  "kernelspec": {
   "display_name": "Python 2",
   "language": "python",
   "name": "python2"
  },
  "language_info": {
   "codemirror_mode": {
    "name": "ipython",
    "version": 2
   },
   "file_extension": ".py",
   "mimetype": "text/x-python",
   "name": "python",
   "nbconvert_exporter": "python",
   "pygments_lexer": "ipython2",
   "version": "2.7.12"
  }
 },
 "nbformat": 4,
 "nbformat_minor": 0
}
