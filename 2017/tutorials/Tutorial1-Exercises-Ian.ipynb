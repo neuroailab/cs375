{
 "cells": [
  {
   "cell_type": "code",
   "execution_count": 1,
   "metadata": {
    "collapsed": true
   },
   "outputs": [],
   "source": [
    "%matplotlib inline \n",
    "import matplotlib.pyplot as plt\n",
    "import pymongo as pm\n",
    "import numpy as np\n",
    "\n",
    "x = np.linspace(-2, 2, 101)[np.random.RandomState(0).permutation(101)]\n",
    "y = x ** 3 - 1"
   ]
  },
  {
   "cell_type": "markdown",
   "metadata": {},
   "source": [
    "### 1.) Insert x and y into the database \"tasks\", collection \"polyfunction\" on host \"localhost\", port \"24444\", read it out again in sorted order print \"x\" and plot \"y\""
   ]
  },
  {
   "cell_type": "code",
   "execution_count": 2,
   "metadata": {
    "collapsed": false,
    "scrolled": true
   },
   "outputs": [
    {
     "data": {
      "text/plain": [
       "<pymongo.results.InsertManyResult at 0x7fb442805050>"
      ]
     },
     "execution_count": 2,
     "metadata": {},
     "output_type": "execute_result"
    }
   ],
   "source": [
    "port = 24444\n",
    "host = 'localhost'\n",
    "connection = pm.MongoClient(port = port, host = host)\n",
    "\n",
    "entries = []\n",
    "for i in range(101):\n",
    "    entries.append({'x': x[i], 'y': y[i]})\n",
    "connection['tasks']['polyfunction'].insert_many(entries)"
   ]
  },
  {
   "cell_type": "code",
   "execution_count": 3,
   "metadata": {
    "collapsed": false
   },
   "outputs": [
    {
     "name": "stdout",
     "output_type": "stream",
     "text": [
      "[-2.0, -2.0, -2.0, -2.0, -2.0, -2.0, -2.0, -2.0, -2.0, -1.96, -1.96, -1.96, -1.96, -1.96, -1.96, -1.96, -1.96, -1.96, -1.92, -1.92, -1.92, -1.92, -1.92, -1.92, -1.92, -1.92, -1.92, -1.88, -1.88, -1.88, -1.88, -1.88, -1.88, -1.88, -1.88, -1.88, -1.84, -1.84, -1.84, -1.84, -1.84, -1.84, -1.84, -1.84, -1.84, -1.8, -1.8, -1.8, -1.8, -1.8, -1.8, -1.8, -1.8, -1.8, -1.76, -1.76, -1.76, -1.76, -1.76, -1.76, -1.76, -1.76, -1.76, -1.72, -1.72, -1.72, -1.72, -1.72, -1.72, -1.72, -1.72, -1.72, -1.68, -1.68, -1.68, -1.68, -1.68, -1.68, -1.68, -1.68, -1.68, -1.6400000000000001, -1.6400000000000001, -1.6400000000000001, -1.6400000000000001, -1.6400000000000001, -1.6400000000000001, -1.6400000000000001, -1.6400000000000001, -1.6400000000000001, -1.6, -1.6, -1.6, -1.6, -1.6, -1.6, -1.6, -1.6, -1.6, -1.56, -1.56, -1.56, -1.56, -1.56, -1.56, -1.56, -1.56, -1.56, -1.52, -1.52, -1.52, -1.52, -1.52, -1.52, -1.52, -1.52, -1.52, -1.48, -1.48, -1.48, -1.48, -1.48, -1.48, -1.48, -1.48, -1.48, -1.44, -1.44, -1.44, -1.44, -1.44, -1.44, -1.44, -1.44, -1.44, -1.4, -1.4, -1.4, -1.4, -1.4, -1.4, -1.4, -1.4, -1.4, -1.3599999999999999, -1.3599999999999999, -1.3599999999999999, -1.3599999999999999, -1.3599999999999999, -1.3599999999999999, -1.3599999999999999, -1.3599999999999999, -1.3599999999999999, -1.3199999999999998, -1.3199999999999998, -1.3199999999999998, -1.3199999999999998, -1.3199999999999998, -1.3199999999999998, -1.3199999999999998, -1.3199999999999998, -1.3199999999999998, -1.28, -1.28, -1.28, -1.28, -1.28, -1.28, -1.28, -1.28, -1.28, -1.24, -1.24, -1.24, -1.24, -1.24, -1.24, -1.24, -1.24, -1.24, -1.2, -1.2, -1.2, -1.2, -1.2, -1.2, -1.2, -1.2, -1.2, -1.1600000000000001, -1.1600000000000001, -1.1600000000000001, -1.1600000000000001, -1.1600000000000001, -1.1600000000000001, -1.1600000000000001, -1.1600000000000001, -1.1600000000000001, -1.12, -1.12, -1.12, -1.12, -1.12, -1.12, -1.12, -1.12, -1.12, -1.08, -1.08, -1.08, -1.08, -1.08, -1.08, -1.08, -1.08, -1.08, -1.04, -1.04, -1.04, -1.04, -1.04, -1.04, -1.04, -1.04, -1.04, -1.0, -1.0, -1.0, -1.0, -1.0, -1.0, -1.0, -1.0, -1.0, -0.96, -0.96, -0.96, -0.96, -0.96, -0.96, -0.96, -0.96, -0.96, -0.9199999999999999, -0.9199999999999999, -0.9199999999999999, -0.9199999999999999, -0.9199999999999999, -0.9199999999999999, -0.9199999999999999, -0.9199999999999999, -0.9199999999999999, -0.8799999999999999, -0.8799999999999999, -0.8799999999999999, -0.8799999999999999, -0.8799999999999999, -0.8799999999999999, -0.8799999999999999, -0.8799999999999999, -0.8799999999999999, -0.8400000000000001, -0.8400000000000001, -0.8400000000000001, -0.8400000000000001, -0.8400000000000001, -0.8400000000000001, -0.8400000000000001, -0.8400000000000001, -0.8400000000000001, -0.8, -0.8, -0.8, -0.8, -0.8, -0.8, -0.8, -0.8, -0.8, -0.76, -0.76, -0.76, -0.76, -0.76, -0.76, -0.76, -0.76, -0.76, -0.72, -0.72, -0.72, -0.72, -0.72, -0.72, -0.72, -0.72, -0.72, -0.6799999999999999, -0.6799999999999999, -0.6799999999999999, -0.6799999999999999, -0.6799999999999999, -0.6799999999999999, -0.6799999999999999, -0.6799999999999999, -0.6799999999999999, -0.6399999999999999, -0.6399999999999999, -0.6399999999999999, -0.6399999999999999, -0.6399999999999999, -0.6399999999999999, -0.6399999999999999, -0.6399999999999999, -0.6399999999999999, -0.5999999999999999, -0.5999999999999999, -0.5999999999999999, -0.5999999999999999, -0.5999999999999999, -0.5999999999999999, -0.5999999999999999, -0.5999999999999999, -0.5999999999999999, -0.56, -0.56, -0.56, -0.56, -0.56, -0.56, -0.56, -0.56, -0.56, -0.52, -0.52, -0.52, -0.52, -0.52, -0.52, -0.52, -0.52, -0.52, -0.48, -0.48, -0.48, -0.48, -0.48, -0.48, -0.48, -0.48, -0.48, -0.43999999999999995, -0.43999999999999995, -0.43999999999999995, -0.43999999999999995, -0.43999999999999995, -0.43999999999999995, -0.43999999999999995, -0.43999999999999995, -0.43999999999999995, -0.3999999999999999, -0.3999999999999999, -0.3999999999999999, -0.3999999999999999, -0.3999999999999999, -0.3999999999999999, -0.3999999999999999, -0.3999999999999999, -0.3999999999999999, -0.3599999999999999, -0.3599999999999999, -0.3599999999999999, -0.3599999999999999, -0.3599999999999999, -0.3599999999999999, -0.3599999999999999, -0.3599999999999999, -0.3599999999999999, -0.32000000000000006, -0.32000000000000006, -0.32000000000000006, -0.32000000000000006, -0.32000000000000006, -0.32000000000000006, -0.32000000000000006, -0.32000000000000006, -0.32000000000000006, -0.28, -0.28, -0.28, -0.28, -0.28, -0.28, -0.28, -0.28, -0.28, -0.24, -0.24, -0.24, -0.24, -0.24, -0.24, -0.24, -0.24, -0.24, -0.19999999999999996, -0.19999999999999996, -0.19999999999999996, -0.19999999999999996, -0.19999999999999996, -0.19999999999999996, -0.19999999999999996, -0.19999999999999996, -0.19999999999999996, -0.15999999999999992, -0.15999999999999992, -0.15999999999999992, -0.15999999999999992, -0.15999999999999992, -0.15999999999999992, -0.15999999999999992, -0.15999999999999992, -0.15999999999999992, -0.11999999999999988, -0.11999999999999988, -0.11999999999999988, -0.11999999999999988, -0.11999999999999988, -0.11999999999999988, -0.11999999999999988, -0.11999999999999988, -0.11999999999999988, -0.08000000000000007, -0.08000000000000007, -0.08000000000000007, -0.08000000000000007, -0.08000000000000007, -0.08000000000000007, -0.08000000000000007, -0.08000000000000007, -0.08000000000000007, -0.040000000000000036, -0.040000000000000036, -0.040000000000000036, -0.040000000000000036, -0.040000000000000036, -0.040000000000000036, -0.040000000000000036, -0.040000000000000036, -0.040000000000000036, 0.0, 0.0, 0.0, 0.0, 0.0, 0.0, 0.0, 0.0, 0.0, 0.040000000000000036, 0.040000000000000036, 0.040000000000000036, 0.040000000000000036, 0.040000000000000036, 0.040000000000000036, 0.040000000000000036, 0.040000000000000036, 0.040000000000000036, 0.08000000000000007, 0.08000000000000007, 0.08000000000000007, 0.08000000000000007, 0.08000000000000007, 0.08000000000000007, 0.08000000000000007, 0.08000000000000007, 0.08000000000000007, 0.1200000000000001, 0.1200000000000001, 0.1200000000000001, 0.1200000000000001, 0.1200000000000001, 0.1200000000000001, 0.1200000000000001, 0.1200000000000001, 0.1200000000000001, 0.16000000000000014, 0.16000000000000014, 0.16000000000000014, 0.16000000000000014, 0.16000000000000014, 0.16000000000000014, 0.16000000000000014, 0.16000000000000014, 0.16000000000000014, 0.20000000000000018, 0.20000000000000018, 0.20000000000000018, 0.20000000000000018, 0.20000000000000018, 0.20000000000000018, 0.20000000000000018, 0.20000000000000018, 0.20000000000000018, 0.2400000000000002, 0.2400000000000002, 0.2400000000000002, 0.2400000000000002, 0.2400000000000002, 0.2400000000000002, 0.2400000000000002, 0.2400000000000002, 0.2400000000000002, 0.28000000000000025, 0.28000000000000025, 0.28000000000000025, 0.28000000000000025, 0.28000000000000025, 0.28000000000000025, 0.28000000000000025, 0.28000000000000025, 0.28000000000000025, 0.31999999999999984, 0.31999999999999984, 0.31999999999999984, 0.31999999999999984, 0.31999999999999984, 0.31999999999999984, 0.31999999999999984, 0.31999999999999984, 0.31999999999999984, 0.3599999999999999, 0.3599999999999999, 0.3599999999999999, 0.3599999999999999, 0.3599999999999999, 0.3599999999999999, 0.3599999999999999, 0.3599999999999999, 0.3599999999999999, 0.3999999999999999, 0.3999999999999999, 0.3999999999999999, 0.3999999999999999, 0.3999999999999999, 0.3999999999999999, 0.3999999999999999, 0.3999999999999999, 0.3999999999999999, 0.43999999999999995, 0.43999999999999995, 0.43999999999999995, 0.43999999999999995, 0.43999999999999995, 0.43999999999999995, 0.43999999999999995, 0.43999999999999995, 0.43999999999999995, 0.48, 0.48, 0.48, 0.48, 0.48, 0.48, 0.48, 0.48, 0.48, 0.52, 0.52, 0.52, 0.52, 0.52, 0.52, 0.52, 0.52, 0.52, 0.56, 0.56, 0.56, 0.56, 0.56, 0.56, 0.56, 0.56, 0.56, 0.6000000000000001, 0.6000000000000001, 0.6000000000000001, 0.6000000000000001, 0.6000000000000001, 0.6000000000000001, 0.6000000000000001, 0.6000000000000001, 0.6000000000000001, 0.6400000000000001, 0.6400000000000001, 0.6400000000000001, 0.6400000000000001, 0.6400000000000001, 0.6400000000000001, 0.6400000000000001, 0.6400000000000001, 0.6400000000000001, 0.6800000000000002, 0.6800000000000002, 0.6800000000000002, 0.6800000000000002, 0.6800000000000002, 0.6800000000000002, 0.6800000000000002, 0.6800000000000002, 0.6800000000000002, 0.7200000000000002, 0.7200000000000002, 0.7200000000000002, 0.7200000000000002, 0.7200000000000002, 0.7200000000000002, 0.7200000000000002, 0.7200000000000002, 0.7200000000000002, 0.7600000000000002, 0.7600000000000002, 0.7600000000000002, 0.7600000000000002, 0.7600000000000002, 0.7600000000000002, 0.7600000000000002, 0.7600000000000002, 0.7600000000000002, 0.8000000000000003, 0.8000000000000003, 0.8000000000000003, 0.8000000000000003, 0.8000000000000003, 0.8000000000000003, 0.8000000000000003, 0.8000000000000003, 0.8000000000000003, 0.8399999999999999, 0.8399999999999999, 0.8399999999999999, 0.8399999999999999, 0.8399999999999999, 0.8399999999999999, 0.8399999999999999, 0.8399999999999999, 0.8399999999999999, 0.8799999999999999, 0.8799999999999999, 0.8799999999999999, 0.8799999999999999, 0.8799999999999999, 0.8799999999999999, 0.8799999999999999, 0.8799999999999999, 0.8799999999999999, 0.9199999999999999, 0.9199999999999999, 0.9199999999999999, 0.9199999999999999, 0.9199999999999999, 0.9199999999999999, 0.9199999999999999, 0.9199999999999999, 0.9199999999999999, 0.96, 0.96, 0.96, 0.96, 0.96, 0.96, 0.96, 0.96, 0.96, 1.0, 1.0, 1.0, 1.0, 1.0, 1.0, 1.0, 1.0, 1.0, 1.04, 1.04, 1.04, 1.04, 1.04, 1.04, 1.04, 1.04, 1.04, 1.08, 1.08, 1.08, 1.08, 1.08, 1.08, 1.08, 1.08, 1.08, 1.12, 1.12, 1.12, 1.12, 1.12, 1.12, 1.12, 1.12, 1.12, 1.1600000000000001, 1.1600000000000001, 1.1600000000000001, 1.1600000000000001, 1.1600000000000001, 1.1600000000000001, 1.1600000000000001, 1.1600000000000001, 1.1600000000000001, 1.2000000000000002, 1.2000000000000002, 1.2000000000000002, 1.2000000000000002, 1.2000000000000002, 1.2000000000000002, 1.2000000000000002, 1.2000000000000002, 1.2000000000000002, 1.2400000000000002, 1.2400000000000002, 1.2400000000000002, 1.2400000000000002, 1.2400000000000002, 1.2400000000000002, 1.2400000000000002, 1.2400000000000002, 1.2400000000000002, 1.2800000000000002, 1.2800000000000002, 1.2800000000000002, 1.2800000000000002, 1.2800000000000002, 1.2800000000000002, 1.2800000000000002, 1.2800000000000002, 1.2800000000000002, 1.3200000000000003, 1.3200000000000003, 1.3200000000000003, 1.3200000000000003, 1.3200000000000003, 1.3200000000000003, 1.3200000000000003, 1.3200000000000003, 1.3200000000000003, 1.3599999999999999, 1.3599999999999999, 1.3599999999999999, 1.3599999999999999, 1.3599999999999999, 1.3599999999999999, 1.3599999999999999, 1.3599999999999999, 1.3599999999999999, 1.4, 1.4, 1.4, 1.4, 1.4, 1.4, 1.4, 1.4, 1.4, 1.44, 1.44, 1.44, 1.44, 1.44, 1.44, 1.44, 1.44, 1.44, 1.48, 1.48, 1.48, 1.48, 1.48, 1.48, 1.48, 1.48, 1.48, 1.52, 1.52, 1.52, 1.52, 1.52, 1.52, 1.52, 1.52, 1.52, 1.56, 1.56, 1.56, 1.56, 1.56, 1.56, 1.56, 1.56, 1.56, 1.6, 1.6, 1.6, 1.6, 1.6, 1.6, 1.6, 1.6, 1.6, 1.6400000000000001, 1.6400000000000001, 1.6400000000000001, 1.6400000000000001, 1.6400000000000001, 1.6400000000000001, 1.6400000000000001, 1.6400000000000001, 1.6400000000000001, 1.6800000000000002, 1.6800000000000002, 1.6800000000000002, 1.6800000000000002, 1.6800000000000002, 1.6800000000000002, 1.6800000000000002, 1.6800000000000002, 1.6800000000000002, 1.7200000000000002, 1.7200000000000002, 1.7200000000000002, 1.7200000000000002, 1.7200000000000002, 1.7200000000000002, 1.7200000000000002, 1.7200000000000002, 1.7200000000000002, 1.7600000000000002, 1.7600000000000002, 1.7600000000000002, 1.7600000000000002, 1.7600000000000002, 1.7600000000000002, 1.7600000000000002, 1.7600000000000002, 1.7600000000000002, 1.8000000000000003, 1.8000000000000003, 1.8000000000000003, 1.8000000000000003, 1.8000000000000003, 1.8000000000000003, 1.8000000000000003, 1.8000000000000003, 1.8000000000000003, 1.8399999999999999, 1.8399999999999999, 1.8399999999999999, 1.8399999999999999, 1.8399999999999999, 1.8399999999999999, 1.8399999999999999, 1.8399999999999999, 1.8399999999999999, 1.88, 1.88, 1.88, 1.88, 1.88, 1.88, 1.88, 1.88, 1.88, 1.92, 1.92, 1.92, 1.92, 1.92, 1.92, 1.92, 1.92, 1.92, 1.96, 1.96, 1.96, 1.96, 1.96, 1.96, 1.96, 1.96, 1.96, 2.0, 2.0, 2.0, 2.0, 2.0, 2.0, 2.0, 2.0, 2.0]\n"
     ]
    },
    {
     "data": {
      "image/png": "[encoded data removed]",
      "text/plain": [
       "<matplotlib.figure.Figure at 0x7fb4763afe90>"
      ]
     },
     "metadata": {},
     "output_type": "display_data"
    }
   ],
   "source": [
    "entries = connection['tasks']['polyfunction'].find({'x': {'$exists' : True}}, projection=['x', 'y']).sort([('x',pm.ASCENDING)])\n",
    "x = [entry['x'] for entry in entries]\n",
    "print(x)\n",
    "entries = connection['tasks']['polyfunction'].find({'x': {'$exists' : True}}, projection=['x', 'y']).sort([('x',pm.ASCENDING)])\n",
    "y = [entry['y'] for entry in entries]\n",
    "plt.plot(x,y)\n",
    "plt.grid()"
   ]
  },
  {
   "cell_type": "markdown",
   "metadata": {},
   "source": [
    "### 2.) Run the script below which trains a MLP for the 10-way MNIST classification task "
   ]
  },
  {
   "cell_type": "code",
   "execution_count": 4,
   "metadata": {
    "collapsed": false
   },
   "outputs": [
    {
     "name": "stderr",
     "output_type": "stream",
     "text": [
      "INFO:tfutils:No seed specified for model 0... Defaulting to seed: 0.\n",
      "INFO:tfutils:No prefix specified for model 0... Defaulting to prefix: model_0.\n",
      "INFO:tfutils:No devices specified for model 0... Defaulting to gpus: ['/gpu:0'].\n",
      "INFO:tfutils:thres_loss not specified for model 0... Defaulting thres_loss to: 100.\n",
      "INFO:tfutils:train_loop not specified for model 0... Using default training loop.\n",
      "INFO:tfutils:validate_fist not specified for model 0... Defaulting validate_first to: True.\n",
      "INFO:tfutils:minibatch_size not specified for training data_params... Defaulting minibatch_size to: 256 (identical to the batch size).\n"
     ]
    },
    {
     "name": "stdout",
     "output_type": "stream",
     "text": [
      "Extracting /tmp/train-images-idx3-ubyte.gz\n",
      "Extracting /tmp/train-labels-idx1-ubyte.gz\n",
      "Extracting /tmp/t10k-images-idx3-ubyte.gz\n",
      "Extracting /tmp/t10k-labels-idx1-ubyte.gz\n",
      "WARNING:tensorflow:From /python_packages/tfutils/tfutils/optimizer.py:100: calling cond (from tensorflow.python.ops.control_flow_ops) with fn2 is deprecated and will be removed in a future version.\n",
      "Instructions for updating:\n",
      "fn1/fn2 are deprecated in favor of the true_fn/false_fn arguments.\n"
     ]
    },
    {
     "name": "stderr",
     "output_type": "stream",
     "text": [
      "WARNING:tensorflow:From /python_packages/tfutils/tfutils/optimizer.py:100: calling cond (from tensorflow.python.ops.control_flow_ops) with fn2 is deprecated and will be removed in a future version.\n",
      "Instructions for updating:\n",
      "fn1/fn2 are deprecated in favor of the true_fn/false_fn arguments.\n"
     ]
    },
    {
     "name": "stdout",
     "output_type": "stream",
     "text": [
      "WARNING:tensorflow:From /python_packages/tfutils/tfutils/optimizer.py:100: calling cond (from tensorflow.python.ops.control_flow_ops) with fn1 is deprecated and will be removed in a future version.\n",
      "Instructions for updating:\n",
      "fn1/fn2 are deprecated in favor of the true_fn/false_fn arguments.\n"
     ]
    },
    {
     "name": "stderr",
     "output_type": "stream",
     "text": [
      "WARNING:tensorflow:From /python_packages/tfutils/tfutils/optimizer.py:100: calling cond (from tensorflow.python.ops.control_flow_ops) with fn1 is deprecated and will be removed in a future version.\n",
      "Instructions for updating:\n",
      "fn1/fn2 are deprecated in favor of the true_fn/false_fn arguments.\n"
     ]
    },
    {
     "name": "stdout",
     "output_type": "stream",
     "text": [
      "WARNING:tensorflow:From /python_packages/tfutils/tfutils/optimizer.py:100: calling cond (from tensorflow.python.ops.control_flow_ops) with fn2 is deprecated and will be removed in a future version.\n",
      "Instructions for updating:\n",
      "fn1/fn2 are deprecated in favor of the true_fn/false_fn arguments.\n"
     ]
    },
    {
     "name": "stderr",
     "output_type": "stream",
     "text": [
      "WARNING:tensorflow:From /python_packages/tfutils/tfutils/optimizer.py:100: calling cond (from tensorflow.python.ops.control_flow_ops) with fn2 is deprecated and will be removed in a future version.\n",
      "Instructions for updating:\n",
      "fn1/fn2 are deprecated in favor of the true_fn/false_fn arguments.\n"
     ]
    },
    {
     "name": "stdout",
     "output_type": "stream",
     "text": [
      "WARNING:tensorflow:From /python_packages/tfutils/tfutils/optimizer.py:100: calling cond (from tensorflow.python.ops.control_flow_ops) with fn1 is deprecated and will be removed in a future version.\n",
      "Instructions for updating:\n",
      "fn1/fn2 are deprecated in favor of the true_fn/false_fn arguments.\n"
     ]
    },
    {
     "name": "stderr",
     "output_type": "stream",
     "text": [
      "WARNING:tensorflow:From /python_packages/tfutils/tfutils/optimizer.py:100: calling cond (from tensorflow.python.ops.control_flow_ops) with fn1 is deprecated and will be removed in a future version.\n",
      "Instructions for updating:\n",
      "fn1/fn2 are deprecated in favor of the true_fn/false_fn arguments.\n"
     ]
    },
    {
     "name": "stdout",
     "output_type": "stream",
     "text": [
      "WARNING:tensorflow:From /python_packages/tfutils/tfutils/optimizer.py:100: calling cond (from tensorflow.python.ops.control_flow_ops) with fn2 is deprecated and will be removed in a future version.\n",
      "Instructions for updating:\n",
      "fn1/fn2 are deprecated in favor of the true_fn/false_fn arguments.\n"
     ]
    },
    {
     "name": "stderr",
     "output_type": "stream",
     "text": [
      "WARNING:tensorflow:From /python_packages/tfutils/tfutils/optimizer.py:100: calling cond (from tensorflow.python.ops.control_flow_ops) with fn2 is deprecated and will be removed in a future version.\n",
      "Instructions for updating:\n",
      "fn1/fn2 are deprecated in favor of the true_fn/false_fn arguments.\n"
     ]
    },
    {
     "name": "stdout",
     "output_type": "stream",
     "text": [
      "WARNING:tensorflow:From /python_packages/tfutils/tfutils/optimizer.py:100: calling cond (from tensorflow.python.ops.control_flow_ops) with fn1 is deprecated and will be removed in a future version.\n",
      "Instructions for updating:\n",
      "fn1/fn2 are deprecated in favor of the true_fn/false_fn arguments.\n"
     ]
    },
    {
     "name": "stderr",
     "output_type": "stream",
     "text": [
      "WARNING:tensorflow:From /python_packages/tfutils/tfutils/optimizer.py:100: calling cond (from tensorflow.python.ops.control_flow_ops) with fn1 is deprecated and will be removed in a future version.\n",
      "Instructions for updating:\n",
      "fn1/fn2 are deprecated in favor of the true_fn/false_fn arguments.\n"
     ]
    },
    {
     "name": "stdout",
     "output_type": "stream",
     "text": [
      "WARNING:tensorflow:From /python_packages/tfutils/tfutils/optimizer.py:100: calling cond (from tensorflow.python.ops.control_flow_ops) with fn2 is deprecated and will be removed in a future version.\n",
      "Instructions for updating:\n",
      "fn1/fn2 are deprecated in favor of the true_fn/false_fn arguments.\n"
     ]
    },
    {
     "name": "stderr",
     "output_type": "stream",
     "text": [
      "WARNING:tensorflow:From /python_packages/tfutils/tfutils/optimizer.py:100: calling cond (from tensorflow.python.ops.control_flow_ops) with fn2 is deprecated and will be removed in a future version.\n",
      "Instructions for updating:\n",
      "fn1/fn2 are deprecated in favor of the true_fn/false_fn arguments.\n"
     ]
    },
    {
     "name": "stdout",
     "output_type": "stream",
     "text": [
      "WARNING:tensorflow:From /python_packages/tfutils/tfutils/optimizer.py:100: calling cond (from tensorflow.python.ops.control_flow_ops) with fn1 is deprecated and will be removed in a future version.\n",
      "Instructions for updating:\n",
      "fn1/fn2 are deprecated in favor of the true_fn/false_fn arguments.\n"
     ]
    },
    {
     "name": "stderr",
     "output_type": "stream",
     "text": [
      "WARNING:tensorflow:From /python_packages/tfutils/tfutils/optimizer.py:100: calling cond (from tensorflow.python.ops.control_flow_ops) with fn1 is deprecated and will be removed in a future version.\n",
      "Instructions for updating:\n",
      "fn1/fn2 are deprecated in favor of the true_fn/false_fn arguments.\n"
     ]
    },
    {
     "name": "stdout",
     "output_type": "stream",
     "text": [
      "WARNING:tensorflow:From /python_packages/tfutils/tfutils/optimizer.py:100: calling cond (from tensorflow.python.ops.control_flow_ops) with fn2 is deprecated and will be removed in a future version.\n",
      "Instructions for updating:\n",
      "fn1/fn2 are deprecated in favor of the true_fn/false_fn arguments.\n"
     ]
    },
    {
     "name": "stderr",
     "output_type": "stream",
     "text": [
      "WARNING:tensorflow:From /python_packages/tfutils/tfutils/optimizer.py:100: calling cond (from tensorflow.python.ops.control_flow_ops) with fn2 is deprecated and will be removed in a future version.\n",
      "Instructions for updating:\n",
      "fn1/fn2 are deprecated in favor of the true_fn/false_fn arguments.\n"
     ]
    },
    {
     "name": "stdout",
     "output_type": "stream",
     "text": [
      "WARNING:tensorflow:From /python_packages/tfutils/tfutils/optimizer.py:100: calling cond (from tensorflow.python.ops.control_flow_ops) with fn1 is deprecated and will be removed in a future version.\n",
      "Instructions for updating:\n",
      "fn1/fn2 are deprecated in favor of the true_fn/false_fn arguments.\n"
     ]
    },
    {
     "name": "stderr",
     "output_type": "stream",
     "text": [
      "WARNING:tensorflow:From /python_packages/tfutils/tfutils/optimizer.py:100: calling cond (from tensorflow.python.ops.control_flow_ops) with fn1 is deprecated and will be removed in a future version.\n",
      "Instructions for updating:\n",
      "fn1/fn2 are deprecated in favor of the true_fn/false_fn arguments.\n"
     ]
    },
    {
     "name": "stdout",
     "output_type": "stream",
     "text": [
      "WARNING:tensorflow:From /python_packages/tfutils/tfutils/optimizer.py:100: calling cond (from tensorflow.python.ops.control_flow_ops) with fn2 is deprecated and will be removed in a future version.\n",
      "Instructions for updating:\n",
      "fn1/fn2 are deprecated in favor of the true_fn/false_fn arguments.\n"
     ]
    },
    {
     "name": "stderr",
     "output_type": "stream",
     "text": [
      "WARNING:tensorflow:From /python_packages/tfutils/tfutils/optimizer.py:100: calling cond (from tensorflow.python.ops.control_flow_ops) with fn2 is deprecated and will be removed in a future version.\n",
      "Instructions for updating:\n",
      "fn1/fn2 are deprecated in favor of the true_fn/false_fn arguments.\n"
     ]
    },
    {
     "name": "stdout",
     "output_type": "stream",
     "text": [
      "WARNING:tensorflow:From /python_packages/tfutils/tfutils/optimizer.py:100: calling cond (from tensorflow.python.ops.control_flow_ops) with fn1 is deprecated and will be removed in a future version.\n",
      "Instructions for updating:\n",
      "fn1/fn2 are deprecated in favor of the true_fn/false_fn arguments.\n"
     ]
    },
    {
     "name": "stderr",
     "output_type": "stream",
     "text": [
      "WARNING:tensorflow:From /python_packages/tfutils/tfutils/optimizer.py:100: calling cond (from tensorflow.python.ops.control_flow_ops) with fn1 is deprecated and will be removed in a future version.\n",
      "Instructions for updating:\n",
      "fn1/fn2 are deprecated in favor of the true_fn/false_fn arguments.\n",
      "INFO:tfutils:Initialized from scratch first\n",
      "WARNING:tfutils:Skipping version check and info...\n",
      "INFO:tfutils:Training beginning ...\n",
      "INFO:tfutils:Saving model with path prefix /home/dan/.tfutils/localhost:24444/mnist/simple/exp1/checkpoint ... \n",
      "INFO:tfutils:... done saving with path prefix /home/dan/.tfutils/localhost:24444/mnist/simple/exp1/checkpoint-0\n",
      "INFO:tfutils:Putting filters into <gridfs.GridFS object at 0x7fb3e9d95cd0> database\n",
      "INFO:tfutils:... done putting filters into database.\n",
      "INFO:tfutils:Step 1 (752 ms) -- loss: 2.3565, learning_rate: 0.5000\n",
      "INFO:tfutils:Step 2 (12 ms) -- loss: 2.3163, learning_rate: 0.5000\n",
      "INFO:tfutils:Step 3 (48 ms) -- loss: 2.3019, learning_rate: 0.5000\n",
      "INFO:tfutils:Step 4 (220 ms) -- loss: 2.3848, learning_rate: 0.5000\n",
      "INFO:tfutils:Step 5 (19 ms) -- loss: 2.2922, learning_rate: 0.5000\n",
      "INFO:tfutils:Step 6 (47 ms) -- loss: 2.3114, learning_rate: 0.5000\n",
      "INFO:tfutils:Step 7 (9 ms) -- loss: 2.3031, learning_rate: 0.5000\n",
      "INFO:tfutils:Step 8 (10 ms) -- loss: 2.2900, learning_rate: 0.5000\n",
      "INFO:tfutils:Step 9 (16 ms) -- loss: 2.2939, learning_rate: 0.5000\n",
      "INFO:tfutils:Step 10 (70 ms) -- loss: 2.2986, learning_rate: 0.5000\n",
      "INFO:tfutils:Step 11 (118 ms) -- loss: 2.2480, learning_rate: 0.5000\n",
      "INFO:tfutils:Step 12 (104 ms) -- loss: 2.2436, learning_rate: 0.5000\n",
      "INFO:tfutils:Step 13 (91 ms) -- loss: 2.2177, learning_rate: 0.5000\n",
      "INFO:tfutils:Step 14 (26 ms) -- loss: 2.2184, learning_rate: 0.5000\n",
      "INFO:tfutils:Step 15 (18 ms) -- loss: 2.2434, learning_rate: 0.5000\n",
      "INFO:tfutils:Step 16 (18 ms) -- loss: 2.1634, learning_rate: 0.5000\n",
      "INFO:tfutils:Step 17 (18 ms) -- loss: 2.0871, learning_rate: 0.5000\n",
      "INFO:tfutils:Step 18 (18 ms) -- loss: 2.0728, learning_rate: 0.5000\n",
      "INFO:tfutils:Step 19 (16 ms) -- loss: 2.0223, learning_rate: 0.5000\n",
      "INFO:tfutils:Step 20 (17 ms) -- loss: 2.0132, learning_rate: 0.5000\n",
      "INFO:tfutils:Step 21 (13 ms) -- loss: 1.9186, learning_rate: 0.5000\n",
      "INFO:tfutils:Step 22 (4 ms) -- loss: 1.8575, learning_rate: 0.5000\n",
      "INFO:tfutils:Step 23 (4 ms) -- loss: 1.8057, learning_rate: 0.5000\n",
      "INFO:tfutils:Step 24 (4 ms) -- loss: 1.6877, learning_rate: 0.5000\n",
      "INFO:tfutils:Step 25 (5 ms) -- loss: 1.5980, learning_rate: 0.5000\n",
      "INFO:tfutils:Step 26 (5 ms) -- loss: 1.5199, learning_rate: 0.5000\n",
      "INFO:tfutils:Step 27 (4 ms) -- loss: 1.5290, learning_rate: 0.5000\n",
      "INFO:tfutils:Step 28 (4 ms) -- loss: 1.4327, learning_rate: 0.5000\n",
      "INFO:tfutils:Step 29 (4 ms) -- loss: 1.2834, learning_rate: 0.5000\n",
      "INFO:tfutils:Step 30 (5 ms) -- loss: 1.2967, learning_rate: 0.5000\n",
      "INFO:tfutils:Step 31 (5 ms) -- loss: 1.2626, learning_rate: 0.5000\n",
      "INFO:tfutils:Step 32 (5 ms) -- loss: 1.1891, learning_rate: 0.5000\n",
      "INFO:tfutils:Step 33 (5 ms) -- loss: 1.1770, learning_rate: 0.5000\n",
      "INFO:tfutils:Step 34 (5 ms) -- loss: 1.0314, learning_rate: 0.5000\n",
      "INFO:tfutils:Step 35 (4 ms) -- loss: 0.9669, learning_rate: 0.5000\n",
      "INFO:tfutils:Step 36 (4 ms) -- loss: 0.9551, learning_rate: 0.5000\n",
      "INFO:tfutils:Step 37 (4 ms) -- loss: 0.9800, learning_rate: 0.5000\n",
      "INFO:tfutils:Step 38 (4 ms) -- loss: 0.8389, learning_rate: 0.5000\n",
      "INFO:tfutils:Step 39 (4 ms) -- loss: 0.8956, learning_rate: 0.5000\n",
      "INFO:tfutils:Step 40 (4 ms) -- loss: 0.8133, learning_rate: 0.5000\n",
      "INFO:tfutils:Step 41 (4 ms) -- loss: 0.7253, learning_rate: 0.5000\n",
      "INFO:tfutils:Step 42 (4 ms) -- loss: 0.8852, learning_rate: 0.5000\n",
      "INFO:tfutils:Step 43 (4 ms) -- loss: 0.8016, learning_rate: 0.5000\n",
      "INFO:tfutils:Step 44 (4 ms) -- loss: 0.7244, learning_rate: 0.5000\n",
      "INFO:tfutils:Step 45 (5 ms) -- loss: 0.6006, learning_rate: 0.5000\n",
      "INFO:tfutils:Step 46 (4 ms) -- loss: 0.6600, learning_rate: 0.5000\n",
      "INFO:tfutils:Step 47 (4 ms) -- loss: 0.6627, learning_rate: 0.5000\n",
      "INFO:tfutils:Step 48 (4 ms) -- loss: 0.5696, learning_rate: 0.5000\n",
      "INFO:tfutils:Step 49 (4 ms) -- loss: 0.6701, learning_rate: 0.5000\n",
      "INFO:tfutils:Step 50 (4 ms) -- loss: 0.5864, learning_rate: 0.5000\n",
      "INFO:tfutils:Step 51 (5 ms) -- loss: 0.6496, learning_rate: 0.5000\n",
      "INFO:tfutils:Step 52 (4 ms) -- loss: 0.5113, learning_rate: 0.5000\n",
      "INFO:tfutils:Step 53 (4 ms) -- loss: 0.5323, learning_rate: 0.5000\n",
      "INFO:tfutils:Step 54 (4 ms) -- loss: 0.5314, learning_rate: 0.5000\n",
      "INFO:tfutils:Step 55 (5 ms) -- loss: 0.5320, learning_rate: 0.5000\n",
      "INFO:tfutils:Step 56 (4 ms) -- loss: 0.5872, learning_rate: 0.5000\n",
      "INFO:tfutils:Step 57 (4 ms) -- loss: 0.4304, learning_rate: 0.5000\n",
      "INFO:tfutils:Step 58 (4 ms) -- loss: 0.5512, learning_rate: 0.5000\n",
      "INFO:tfutils:Step 59 (4 ms) -- loss: 0.5508, learning_rate: 0.5000\n",
      "INFO:tfutils:Step 60 (4 ms) -- loss: 0.5174, learning_rate: 0.5000\n",
      "INFO:tfutils:Step 61 (4 ms) -- loss: 0.4434, learning_rate: 0.5000\n",
      "INFO:tfutils:Step 62 (4 ms) -- loss: 0.4910, learning_rate: 0.5000\n",
      "INFO:tfutils:Step 63 (4 ms) -- loss: 0.4722, learning_rate: 0.5000\n",
      "INFO:tfutils:Step 64 (4 ms) -- loss: 0.3710, learning_rate: 0.5000\n",
      "INFO:tfutils:Step 65 (10 ms) -- loss: 0.4370, learning_rate: 0.5000\n",
      "INFO:tfutils:Step 66 (5 ms) -- loss: 0.4384, learning_rate: 0.5000\n",
      "INFO:tfutils:Step 67 (4 ms) -- loss: 0.5186, learning_rate: 0.5000\n",
      "INFO:tfutils:Step 68 (4 ms) -- loss: 0.4479, learning_rate: 0.5000\n",
      "INFO:tfutils:Step 69 (4 ms) -- loss: 0.4352, learning_rate: 0.5000\n",
      "INFO:tfutils:Step 70 (5 ms) -- loss: 0.4451, learning_rate: 0.5000\n",
      "INFO:tfutils:Step 71 (16 ms) -- loss: 0.4956, learning_rate: 0.5000\n",
      "INFO:tfutils:Step 72 (18 ms) -- loss: 0.4941, learning_rate: 0.5000\n",
      "INFO:tfutils:Step 73 (15 ms) -- loss: 0.3835, learning_rate: 0.5000\n",
      "INFO:tfutils:Step 74 (38 ms) -- loss: 0.3687, learning_rate: 0.5000\n",
      "INFO:tfutils:Step 75 (40 ms) -- loss: 0.3349, learning_rate: 0.5000\n",
      "INFO:tfutils:Step 76 (46 ms) -- loss: 0.3630, learning_rate: 0.5000\n",
      "INFO:tfutils:Step 77 (52 ms) -- loss: 0.4875, learning_rate: 0.5000\n",
      "INFO:tfutils:Step 78 (33 ms) -- loss: 0.3445, learning_rate: 0.5000\n",
      "INFO:tfutils:Step 79 (9 ms) -- loss: 0.5232, learning_rate: 0.5000\n",
      "INFO:tfutils:Step 80 (10 ms) -- loss: 0.4692, learning_rate: 0.5000\n",
      "INFO:tfutils:Step 81 (49 ms) -- loss: 0.4350, learning_rate: 0.5000\n",
      "INFO:tfutils:Step 82 (98 ms) -- loss: 0.4030, learning_rate: 0.5000\n",
      "INFO:tfutils:Step 83 (15 ms) -- loss: 0.2917, learning_rate: 0.5000\n",
      "INFO:tfutils:Step 84 (11 ms) -- loss: 0.3671, learning_rate: 0.5000\n",
      "INFO:tfutils:Step 85 (13 ms) -- loss: 0.4604, learning_rate: 0.5000\n",
      "INFO:tfutils:Step 86 (13 ms) -- loss: 0.2994, learning_rate: 0.5000\n",
      "INFO:tfutils:Step 87 (9 ms) -- loss: 0.3254, learning_rate: 0.5000\n",
      "INFO:tfutils:Step 88 (22 ms) -- loss: 0.5054, learning_rate: 0.5000\n",
      "INFO:tfutils:Step 89 (15 ms) -- loss: 0.4298, learning_rate: 0.5000\n",
      "INFO:tfutils:Step 90 (23 ms) -- loss: 0.3668, learning_rate: 0.5000\n",
      "INFO:tfutils:Step 91 (45 ms) -- loss: 0.3237, learning_rate: 0.5000\n",
      "INFO:tfutils:Step 92 (14 ms) -- loss: 0.3803, learning_rate: 0.5000\n",
      "INFO:tfutils:Step 93 (14 ms) -- loss: 0.3696, learning_rate: 0.5000\n",
      "INFO:tfutils:Step 94 (13 ms) -- loss: 0.4683, learning_rate: 0.5000\n",
      "INFO:tfutils:Step 95 (13 ms) -- loss: 0.3879, learning_rate: 0.5000\n",
      "INFO:tfutils:Step 96 (11 ms) -- loss: 0.3649, learning_rate: 0.5000\n",
      "INFO:tfutils:Step 97 (10 ms) -- loss: 0.3856, learning_rate: 0.5000\n",
      "INFO:tfutils:Step 98 (12 ms) -- loss: 0.3575, learning_rate: 0.5000\n",
      "INFO:tfutils:Step 99 (11 ms) -- loss: 0.3652, learning_rate: 0.5000\n",
      "INFO:tfutils:Step 100 (14 ms) -- loss: 0.4010, learning_rate: 0.5000\n"
     ]
    },
    {
     "name": "stdout",
     "output_type": "stream",
     "text": [
      "mnist/b2/Momentum\n",
      "global_step\n",
      "mnist/W1/Momentum\n",
      "Variable_5\n",
      "mnist/b3/Momentum\n",
      "mnist/W3/Momentum\n",
      "mnist/b1\n",
      "mnist/b2\n",
      "mnist/b3\n",
      "Variable_3\n",
      "Variable_2\n",
      "Variable_1\n",
      "mnist/W2/Momentum\n",
      "Variable\n",
      "Variable_4\n",
      "mnist/b1/Momentum\n",
      "mnist/W3\n",
      "mnist/W2\n",
      "mnist/W1\n"
     ]
    },
    {
     "name": "stderr",
     "output_type": "stream",
     "text": [
      "INFO:tfutils:Saving model with path prefix /home/dan/.tfutils/localhost:24444/mnist/simple/exp1/checkpoint ... \n",
      "INFO:tfutils:... done saving with path prefix /home/dan/.tfutils/localhost:24444/mnist/simple/exp1/checkpoint-100\n",
      "INFO:tfutils:Putting filters into <gridfs.GridFS object at 0x7fb3e9d95cd0> database\n",
      "INFO:tfutils:... done putting filters into database.\n"
     ]
    },
    {
     "data": {
      "text/plain": [
       "[[ObjectId('59dfd821d4fdab1c21d8be0a'), ObjectId('59dfd824d4fdab1c21d8be10')]]"
      ]
     },
     "execution_count": 4,
     "metadata": {},
     "output_type": "execute_result"
    }
   ],
   "source": [
    "import tensorflow as tf\n",
    "from __future__ import division\n",
    "from tfutils import base, data, optimizer, utils\n",
    "\n",
    "# delete exp1\n",
    "connection['mnist']['simple.files'].delete_many({'exp_id' : 'exp1'})\n",
    "\n",
    "def mnist_model(inputs, train=True, **kwargs):\n",
    "    # trainable variables randomly initialized\n",
    "    with tf.variable_scope(\"mnist\"):\n",
    "        W1 = tf.get_variable('W1', [784,128], tf.float32, tf.random_normal_initializer(stddev=0.1))\n",
    "        b1 = tf.get_variable('b1', [128], tf.float32, tf.random_normal_initializer(stddev=0.1))\n",
    "        W2 = tf.get_variable('W2', [128,32], tf.float32, tf.random_normal_initializer(stddev=0.1))\n",
    "        b2 = tf.get_variable('b2', [32], tf.float32, tf.random_normal_initializer(stddev=0.1))\n",
    "        W3 = tf.get_variable('W3', [32,10], tf.float32, tf.random_normal_initializer(stddev=0.1))\n",
    "        b3 = tf.get_variable('b3', [10], tf.float32, tf.random_normal_initializer(stddev=0.1))\n",
    "        \n",
    "        # hidden layers\n",
    "        h1 = tf.nn.sigmoid(tf.matmul(inputs['images'], W1) + b1, name='hidden1')\n",
    "        h2 = tf.nn.sigmoid(tf.matmul(h1, W2) + b2, name='hidden2')\n",
    "        # output\n",
    "        output = tf.matmul(h2, W3) + b3\n",
    "\n",
    "    return output, {}\n",
    "\n",
    "params = {}\n",
    "\n",
    "params['load_params'] = {\n",
    "    'do_restore': False}\n",
    "\n",
    "params['save_params'] = {\n",
    "    'host': 'localhost',\n",
    "    'port': 24444,\n",
    "    'dbname': 'mnist',\n",
    "    'collname': 'simple',\n",
    "    'exp_id': 'exp1',\n",
    "    'save_valid_freq': 200,\n",
    "    'save_filters_freq': 100,\n",
    "    'cache_filters_freq': 100}\n",
    "\n",
    "params['train_params'] = {\n",
    "    'data_params': {'func': data.MNIST,\n",
    "                    'batch_size': 256,\n",
    "                    'group': 'train',\n",
    "                    'n_threads': 1},\n",
    "    'queue_params': {'queue_type': 'random',\n",
    "                     'batch_size': 256},\n",
    "    'num_steps': 100}\n",
    "\n",
    "params['model_params'] = {\n",
    "    'func': mnist_model} \n",
    "\n",
    "params['learning_rate_params'] = {\n",
    "    'learning_rate': 0.5,\n",
    "    'decay_steps': 500,\n",
    "    'decay_rate': 0.95,\n",
    "    'staircase': True}\n",
    "\n",
    "params['optimizer_params'] = {\n",
    "    'func': optimizer.ClipOptimizer,\n",
    "    'optimizer_class': tf.train.MomentumOptimizer,\n",
    "    'momentum': 0.9,\n",
    "    'clip': True,\n",
    "}\n",
    "\n",
    "params['loss_params'] = {\n",
    "    'targets': ['labels'],\n",
    "    'loss_per_case_func': tf.nn.sparse_softmax_cross_entropy_with_logits,\n",
    "    'agg_func': tf.reduce_mean\n",
    "}\n",
    "\n",
    "params['skip_check'] = True\n",
    "\n",
    "base.train_from_params(**params)"
   ]
  },
  {
   "cell_type": "markdown",
   "metadata": {},
   "source": [
    "### 3.) Now let's load the trained model from the database and test it on the validation set using TFUtils. There are 10,000 examples in the MNIST test set.\n",
    "### Fill in the blanks marked with EDIT!"
   ]
  },
  {
   "cell_type": "code",
   "execution_count": 5,
   "metadata": {
    "collapsed": false
   },
   "outputs": [
    {
     "ename": "NameError",
     "evalue": "name 'EDIT' is not defined",
     "output_type": "error",
     "traceback": [
      "\u001b[1;31m---------------------------------------------------------------------------\u001b[0m",
      "\u001b[1;31mNameError\u001b[0m                                 Traceback (most recent call last)",
      "\u001b[1;32m<ipython-input-5-cfae110a940d>\u001b[0m in \u001b[0;36m<module>\u001b[1;34m()\u001b[0m\n\u001b[0;32m     27\u001b[0m \u001b[1;33m\u001b[0m\u001b[0m\n\u001b[0;32m     28\u001b[0m params['load_params'] = {\n\u001b[1;32m---> 29\u001b[1;33m     \u001b[1;34m'host'\u001b[0m\u001b[1;33m:\u001b[0m \u001b[0mEDIT\u001b[0m\u001b[1;33m,\u001b[0m\u001b[1;33m\u001b[0m\u001b[0m\n\u001b[0m\u001b[0;32m     30\u001b[0m     \u001b[1;34m'port'\u001b[0m\u001b[1;33m:\u001b[0m \u001b[0mEDIT\u001b[0m\u001b[1;33m,\u001b[0m\u001b[1;33m\u001b[0m\u001b[0m\n\u001b[0;32m     31\u001b[0m     \u001b[1;34m'dbname'\u001b[0m\u001b[1;33m:\u001b[0m \u001b[0mEDIT\u001b[0m\u001b[1;33m,\u001b[0m\u001b[1;33m\u001b[0m\u001b[0m\n",
      "\u001b[1;31mNameError\u001b[0m: name 'EDIT' is not defined"
     ]
    }
   ],
   "source": [
    "def top1_func(inputs, outputs): \n",
    "    \"\"\"\n",
    "    Computes the top1 accuracy with tf.nn.in_top_k\n",
    "    predictions = outputs\n",
    "    targets = inputs['labels']\n",
    "    \"\"\"\n",
    "    res = {'top1': EDIT}\n",
    "    return res\n",
    "\n",
    "def online_agg(agg_res, res, step):\n",
    "    \"\"\"\n",
    "    Appends the value for each key\n",
    "    \"\"\"\n",
    "    if agg_res is None:\n",
    "        agg_res = {k: [] for k in res}\n",
    "    for k, v in res.items():\n",
    "        agg_res[k].append(v)\n",
    "    return agg_res\n",
    "\n",
    "def agg_mean(x):\n",
    "    \"\"\"\n",
    "    Takes the mean of the aggregated results x\n",
    "    \"\"\"\n",
    "    return {k: np.mean(v) for k, v in x.items()}\n",
    "\n",
    "params = {}\n",
    "\n",
    "params['load_params'] = {\n",
    "    'host': EDIT,\n",
    "    'port': EDIT,\n",
    "    'dbname': EDIT,\n",
    "    'collname': EDIT,\n",
    "    'exp_id': EDIT,\n",
    "    'do_restore': EDIT}\n",
    "\n",
    "params['validation_params'] = {'valid0': {\n",
    "    'data_params': {EDIT},\n",
    "    'queue_params': {EDIT},\n",
    "    'targets': {EDIT},\n",
    "    'num_steps': EDIT,\n",
    "    'agg_func': EDIT,\n",
    "    'online_agg_func': EDIT,}}\n",
    "\n",
    "params['model_params'] = {\n",
    "    'func': EDIT}\n",
    "\n",
    "params['skip_check'] = True\n",
    "\n",
    "base.test_from_params(**params)\n",
    "\n",
    "# Extract record from database\n",
    "q_val = {'exp_id' : EDIT, 'validation_results' : {'$exists' : True}, 'validates': {'$exists': True}}\n",
    "val_steps = connection[EDIT]['EDIT.files'].find(EDIT)\n",
    "top1 = [val_steps[i][EDIT][EDIT][EDIT] \n",
    "        for i in range(val_steps.count())]\n",
    "print(top1)"
   ]
  },
  {
   "cell_type": "markdown",
   "metadata": {},
   "source": [
    "### 4.) Execute the script below to load the meta data"
   ]
  },
  {
   "cell_type": "code",
   "execution_count": null,
   "metadata": {
    "collapsed": true
   },
   "outputs": [],
   "source": [
    "tf.nn.in_top_k?"
   ]
  },
  {
   "cell_type": "code",
   "execution_count": null,
   "metadata": {
    "collapsed": false,
    "scrolled": true
   },
   "outputs": [],
   "source": [
    "#load from tfrecords\n",
    "import cPickle\n",
    "import numpy as np\n",
    "data_path = '/datasets/neural_data/neural_data.pkl'\n",
    "with open(data_path) as f:\n",
    "    data = cPickle.load(f)\n",
    "meta = data['meta']\n",
    "IT_features = data['IT']\n",
    "meta.dtype.names"
   ]
  },
  {
   "cell_type": "markdown",
   "metadata": {},
   "source": [
    "### 5.) Select all files with 'Animals' or 'Cars' with a rotation in the xy-plane of more than 45 degrees and print how many there are:"
   ]
  },
  {
   "cell_type": "code",
   "execution_count": null,
   "metadata": {
    "collapsed": false
   },
   "outputs": [],
   "source": [
    "### YOUR CODE HERE\n",
    "len((meta[((meta['category'] == 'Cars') | \n",
    "          (meta['category'] == 'Animals')) &\n",
    "          (meta['rxy'] > 45)]['obj']))"
   ]
  },
  {
   "cell_type": "markdown",
   "metadata": {},
   "source": [
    "### 6.) Select all objects with 'GORILLA' that either have a variation level of 'V0' or a size 's' bigger 1 or both, and print the object names, their sizes 's' and variation levels as tuples:"
   ]
  },
  {
   "cell_type": "code",
   "execution_count": null,
   "metadata": {
    "collapsed": false
   },
   "outputs": [],
   "source": [
    "### YOUR CODE HERE\n",
    "subset = meta[(meta['obj'] == 'GORILLA') & \n",
    "             ((meta['var'] == 'V0') |\n",
    "             (meta['s'] > 1))]\n",
    "\n",
    "list(subset[['obj','s','var']])"
   ]
  },
  {
   "cell_type": "markdown",
   "metadata": {},
   "source": [
    "### 7.) Perform a 8-way classification on the categories, using 20 splits, a 'svm.LinearSVC' classifier a 'C' of 5e-3 on variation level 'V0' for train and test.\n",
    "### Fill in the blanks marked with EDIT!"
   ]
  },
  {
   "cell_type": "code",
   "execution_count": null,
   "metadata": {
    "collapsed": true
   },
   "outputs": [],
   "source": [
    "from dldata.metrics.utils import compute_metric_base\n",
    "# Definition of classification experiment\n",
    "category_eval_spec = {\n",
    "    'npc_train': None,\n",
    "    'npc_test': 2,\n",
    "    'num_splits': EDIT,\n",
    "    'npc_validate': 0,\n",
    "    'metric_screen': EDIT,\n",
    "    'metric_labels': None,\n",
    "    'metric_kwargs': {'model_type': EDIT,\n",
    "                      'model_kwargs': {EDIT}\n",
    "                     },\n",
    "    'labelfunc': EDIT,\n",
    "    'train_q': {EDIT},\n",
    "    'test_q': {EDIT},\n",
    "    'split_by': 'obj'\n",
    "}\n",
    "# Execute classification experiment\n",
    "res = compute_metric_base(IT_features, meta, category_eval_spec)\n",
    "\n",
    "# Print results\n",
    "print('Overall accuracy of IT features on 8-way classification task: %.2f%%' % \\\n",
    "      ((np.array(res['result_summary']['accbal']).mean(0) - 0.5) * 2.0 * 100.0))"
   ]
  },
  {
   "cell_type": "markdown",
   "metadata": {},
   "source": [
    "### 8.) Plot the confusion matrix"
   ]
  },
  {
   "cell_type": "code",
   "execution_count": null,
   "metadata": {
    "collapsed": true
   },
   "outputs": [],
   "source": [
    "# Confusion matrix\n",
    "cms = res['result_summary']['cms']).mean(2)\n",
    "axis_labels = res['result_summary']['labelset']\n",
    "\n",
    "### YOUR CODE HERE"
   ]
  }
 ],
 "metadata": {
  "kernelspec": {
   "display_name": "Python 2",
   "language": "python",
   "name": "python2"
  },
  "language_info": {
   "codemirror_mode": {
    "name": "ipython",
    "version": 2
   },
   "file_extension": ".py",
   "mimetype": "text/x-python",
   "name": "python",
   "nbconvert_exporter": "python",
   "pygments_lexer": "ipython2",
   "version": "2.7.12"
  }
 },
 "nbformat": 4,
 "nbformat_minor": 2
}
